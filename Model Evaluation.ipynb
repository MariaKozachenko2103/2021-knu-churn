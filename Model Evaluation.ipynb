{
 "cells": [
  {
   "cell_type": "code",
   "execution_count": 60,
   "id": "dietary-switch",
   "metadata": {},
   "outputs": [
    {
     "name": "stdout",
     "output_type": "stream",
     "text": [
      "       Unnamed: 0  CLIENTNUM  Attrition_Flag  Customer_Age  Gender  \\\n",
      "0               0  768805383               0      0.404255       1   \n",
      "1               2  713982108               0      0.531915       1   \n",
      "2               3  769911858               0      0.297872       0   \n",
      "3               4  709106358               0      0.297872       1   \n",
      "4               5  713061558               0      0.382979       1   \n",
      "...           ...        ...             ...           ...     ...   \n",
      "10114       10122  772366833               0      0.510638       1   \n",
      "10115       10123  710638233               1      0.319149       1   \n",
      "10116       10124  716506083               1      0.382979       0   \n",
      "10117       10125  717406983               1      0.085106       1   \n",
      "10118       10126  714337233               1      0.361702       0   \n",
      "\n",
      "       Dependent_count  Education_Level  Marital_Status  Income_Category  \\\n",
      "0                    3                1               0                2   \n",
      "1                    3                3               0                3   \n",
      "2                    4                1               0                0   \n",
      "3                    3                0               0                2   \n",
      "4                    2                3               0                1   \n",
      "...                ...              ...             ...              ...   \n",
      "10114                2                3               1                1   \n",
      "10115                2                2               3                1   \n",
      "10116                1                1               0                0   \n",
      "10117                2                3               1                1   \n",
      "10118                2                3               0                0   \n",
      "\n",
      "       Card_Category  ...  Months_Inactive_12_mon  Contacts_Count_12_mon  \\\n",
      "0                  0  ...                       1                      3   \n",
      "1                  0  ...                       1                      0   \n",
      "2                  0  ...                       4                      1   \n",
      "3                  0  ...                       1                      0   \n",
      "4                  0  ...                       1                      2   \n",
      "...              ...  ...                     ...                    ...   \n",
      "10114              0  ...                       2                      3   \n",
      "10115              0  ...                       2                      3   \n",
      "10116              0  ...                       3                      4   \n",
      "10117              0  ...                       3                      3   \n",
      "10118              1  ...                       2                      4   \n",
      "\n",
      "       Credit_Limit  Total_Revolving_Bal  Avg_Open_To_Buy  \\\n",
      "0          0.340190             0.308701         0.345116   \n",
      "1          0.059850             0.000000         0.098948   \n",
      "2          0.056676             1.000000         0.022977   \n",
      "3          0.099091             0.000000         0.136557   \n",
      "4          0.077747             0.495431         0.079970   \n",
      "...             ...                  ...              ...   \n",
      "10114      0.077536             0.735399         0.062266   \n",
      "10115      0.085819             0.868494         0.060499   \n",
      "10116      0.120042             0.000000         0.156637   \n",
      "10117      0.116172             0.000000         0.152928   \n",
      "10118      0.270566             0.779102         0.244082   \n",
      "\n",
      "       Total_Amt_Chng_Q4_Q1  Total_Trans_Amt  Total_Trans_Ct  \\\n",
      "0                  0.392994         0.035273        0.248062   \n",
      "1                  0.763615         0.076611        0.077519   \n",
      "2                  0.413600         0.036775        0.077519   \n",
      "3                  0.640271         0.017025        0.139535   \n",
      "4                  0.405063         0.032158        0.108527   \n",
      "...                     ...              ...             ...   \n",
      "10114              0.206947         0.832647        0.829457   \n",
      "10115              0.236679         0.459219        0.457364   \n",
      "10116              0.241095         0.544175        0.387597   \n",
      "10117              0.157492         0.438689        0.403101   \n",
      "10118              0.206947         0.544342        0.395349   \n",
      "\n",
      "       Total_Ct_Chng_Q4_Q1  Avg_Utilization_Ratio  \n",
      "0                 0.437534               0.061061  \n",
      "1                 0.628164               0.000000  \n",
      "2                 0.628164               0.760761  \n",
      "3                 0.673129               0.000000  \n",
      "4                 0.227787               0.311311  \n",
      "...                    ...                    ...  \n",
      "10114             0.230749               0.462462  \n",
      "10115             0.183899               0.511512  \n",
      "10116             0.220248               0.000000  \n",
      "10117             0.194400               0.000000  \n",
      "10118             0.174744               0.189189  \n",
      "\n",
      "[10119 rows x 22 columns]\n"
     ]
    }
   ],
   "source": [
    "import pandas\n",
    "import sklearn.neighbors\n",
    "from sklearn.model_selection import train_test_split\n",
    "from sklearn.metrics import accuracy_score\n",
    "from sklearn.naive_bayes import CategoricalNB\n",
    "import numpy as np\n",
    "from sklearn.tree import DecisionTreeClassifier\n",
    "from sklearn.ensemble import RandomForestClassifier\n",
    "from sklearn.svm import SVC\n",
    "\n",
    "dat=pandas.read_csv(\"Preprocessed.csv\",  delimiter=\",\")\n",
    "\n",
    "dat=dat.drop(columns=['Naive_Bayes_Classifier_Attrition_Flag_Card_Category_Contacts_Count_12_mon_Dependent_count_Education_Level_Months_Inactive_12_mon_1', 'Naive_Bayes_Classifier_Attrition_Flag_Card_Category_Contacts_Count_12_mon_Dependent_count_Education_Level_Months_Inactive_12_mon_2'])\n",
    "\n",
    "print(dat)"
   ]
  },
  {
   "cell_type": "code",
   "execution_count": 45,
   "id": "conditional-closer",
   "metadata": {},
   "outputs": [
    {
     "name": "stdout",
     "output_type": "stream",
     "text": [
      "KNN: k, uniform accuracy, distance accuracy\n",
      "2 0.8295125164690381 0.7444005270092227\n",
      "3 0.8018445322793148 0.7816864295125164\n",
      "4 0.8361001317523057 0.789064558629776\n",
      "5 0.8225296442687746 0.8061923583662715\n",
      "6 0.8395256916996048 0.8085638998682477\n",
      "7 0.831357048748353 0.8127799736495388\n",
      "8 0.8428194993412385 0.8156785243741765\n",
      "9 0.8374176548089592 0.8221343873517787\n"
     ]
    }
   ],
   "source": [
    "TESTS=3\n",
    "\n",
    "x_train, x_test, y_train, y_test = [0]*TESTS,[0]*TESTS,[0]*TESTS,[0]*TESTS\n",
    "for i in range (TESTS):\n",
    "    x_train[i], x_test[i], y_train[i], y_test[i]= train_test_split(\n",
    "        dat.drop(columns=[\"Attrition_Flag\"]),dat[\"Attrition_Flag\"])\n",
    "\n",
    "print(\"KNN: k, uniform accuracy, distance accuracy\")\n",
    "    \n",
    "for k in range (2,10):\n",
    "    knnu=sklearn.neighbors.KNeighborsClassifier(n_neighbors=k,weights='uniform')\n",
    "    knnd=sklearn.neighbors.KNeighborsClassifier(n_neighbors=k,weights='distance')\n",
    "    au=0\n",
    "    ad=0\n",
    "    for i in range (TESTS):\n",
    "        knnu.fit(x_train[i], y_train[i])\n",
    "        knnd.fit(x_train[i], y_train[i])\n",
    "        au+=accuracy_score(y_test[i], knnu.predict(x_test[i]))\n",
    "        ad+=accuracy_score(y_test[i], knnd.predict(x_test[i]))\n",
    "    print(k,au/TESTS,ad/TESTS)"
   ]
  },
  {
   "cell_type": "code",
   "execution_count": 53,
   "id": "electric-typing",
   "metadata": {},
   "outputs": [
    {
     "name": "stdout",
     "output_type": "stream",
     "text": [
      "NB: accuracy\n",
      "['Attrition_Flag', 'Gender', 'Dependent_count', 'Education_Level', 'Marital_Status', 'Income_Category', 'Card_Category', 'Total_Relationship_Count', 'Months_Inactive_12_mon', 'Contacts_Count_12_mon']\n",
      "0.852832674571805\n"
     ]
    }
   ],
   "source": [
    "print(\"NB: accuracy\")\n",
    "\n",
    "cols=[]\n",
    "for el in dat.columns:\n",
    "    if len(dat[el].value_counts())<=10:\n",
    "        cols.append(el)\n",
    "        \n",
    "print(cols)\n",
    "\n",
    "TESTS=3\n",
    "\n",
    "x_train, x_test, y_train, y_test = [0]*TESTS,[0]*TESTS,[0]*TESTS,[0]*TESTS\n",
    "for i in range (TESTS):\n",
    "    x_train[i], x_test[i], y_train[i], y_test[i]= train_test_split(\n",
    "        dat[cols[1:]],dat[\"Attrition_Flag\"])\n",
    "\n",
    "nb=sklearn.naive_bayes.CategoricalNB()\n",
    "ac=0\n",
    "for i in range (TESTS):\n",
    "    nb.fit(x_train[i], y_train[i])\n",
    "    ac+=accuracy_score(y_test[i], nb.predict(x_test[i]))\n",
    "print(ac/TESTS)"
   ]
  },
  {
   "cell_type": "code",
   "execution_count": 59,
   "id": "optimum-promotion",
   "metadata": {},
   "outputs": [
    {
     "name": "stdout",
     "output_type": "stream",
     "text": [
      "DecisionTree: accuracy\n",
      "0.9736495388669302\n"
     ]
    }
   ],
   "source": [
    "print(\"DecisionTree: accuracy\")\n",
    "\n",
    "TESTS=3\n",
    "\n",
    "x_train, x_test, y_train, y_test = [0]*TESTS,[0]*TESTS,[0]*TESTS,[0]*TESTS\n",
    "for i in range (TESTS):\n",
    "    x_train[i], x_test[i], y_train[i], y_test[i]= train_test_split(\n",
    "        dat.drop(columns=[\"Attrition_Flag\"]),dat[\"Attrition_Flag\"])\n",
    "\n",
    "dt=sklearn.tree.DecisionTreeClassifier()\n",
    "ac=0\n",
    "for i in range (TESTS):\n",
    "    dt.fit(x_train[i], y_train[i])\n",
    "    ac+=accuracy_score(y_test[i], dt.predict(x_test[i]))\n",
    "print(ac/TESTS)"
   ]
  },
  {
   "cell_type": "code",
   "execution_count": 62,
   "id": "handled-herald",
   "metadata": {},
   "outputs": [
    {
     "name": "stdout",
     "output_type": "stream",
     "text": [
      "RandomForest: accuracy\n",
      "0.9832674571805007\n"
     ]
    }
   ],
   "source": [
    "print(\"RandomForest: accuracy\")\n",
    "\n",
    "TESTS=3\n",
    "\n",
    "x_train, x_test, y_train, y_test = [0]*TESTS,[0]*TESTS,[0]*TESTS,[0]*TESTS\n",
    "for i in range (TESTS):\n",
    "    x_train[i], x_test[i], y_train[i], y_test[i]= train_test_split(\n",
    "        dat.drop(columns=[\"Attrition_Flag\"]),dat[\"Attrition_Flag\"])\n",
    "\n",
    "dt=sklearn.ensemble.RandomForestClassifier()\n",
    "ac=0\n",
    "for i in range (TESTS):\n",
    "    dt.fit(x_train[i], y_train[i])\n",
    "    ac+=accuracy_score(y_test[i], dt.predict(x_test[i]))\n",
    "print(ac/TESTS)"
   ]
  },
  {
   "cell_type": "code",
   "execution_count": 63,
   "id": "stretch-council",
   "metadata": {},
   "outputs": [
    {
     "name": "stdout",
     "output_type": "stream",
     "text": [
      "SVC: accuracy\n",
      "0.8363636363636363\n"
     ]
    }
   ],
   "source": [
    "print(\"SVC: accuracy\")\n",
    "\n",
    "TESTS=3\n",
    "\n",
    "x_train, x_test, y_train, y_test = [0]*TESTS,[0]*TESTS,[0]*TESTS,[0]*TESTS\n",
    "for i in range (TESTS):\n",
    "    x_train[i], x_test[i], y_train[i], y_test[i]= train_test_split(\n",
    "        dat.drop(columns=[\"Attrition_Flag\"]),dat[\"Attrition_Flag\"])\n",
    "\n",
    "dt=sklearn.svm.SVC()\n",
    "ac=0\n",
    "for i in range (TESTS):\n",
    "    dt.fit(x_train[i], y_train[i])\n",
    "    ac+=accuracy_score(y_test[i], dt.predict(x_test[i]))\n",
    "print(ac/TESTS)"
   ]
  },
  {
   "cell_type": "code",
   "execution_count": null,
   "id": "difficult-perry",
   "metadata": {},
   "outputs": [],
   "source": []
  }
 ],
 "metadata": {
  "kernelspec": {
   "display_name": "Python 3",
   "language": "python",
   "name": "python3"
  },
  "language_info": {
   "codemirror_mode": {
    "name": "ipython",
    "version": 3
   },
   "file_extension": ".py",
   "mimetype": "text/x-python",
   "name": "python",
   "nbconvert_exporter": "python",
   "pygments_lexer": "ipython3",
   "version": "3.9.1"
  }
 },
 "nbformat": 4,
 "nbformat_minor": 5
}
