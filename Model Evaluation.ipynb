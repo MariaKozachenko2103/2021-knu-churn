{
 "cells": [
  {
   "cell_type": "code",
   "execution_count": 103,
   "id": "organized-terminology",
   "metadata": {},
   "outputs": [
    {
     "name": "stdout",
     "output_type": "stream",
     "text": [
      "       Unnamed: 0  CLIENTNUM  Attrition_Flag  Customer_Age  Gender  \\\n",
      "0               0  768805383               0      0.404255       1   \n",
      "1               2  713982108               0      0.531915       1   \n",
      "2               3  769911858               0      0.297872       0   \n",
      "3               4  709106358               0      0.297872       1   \n",
      "4               5  713061558               0      0.382979       1   \n",
      "...           ...        ...             ...           ...     ...   \n",
      "10114       10122  772366833               0      0.510638       1   \n",
      "10115       10123  710638233               1      0.319149       1   \n",
      "10116       10124  716506083               1      0.382979       0   \n",
      "10117       10125  717406983               1      0.085106       1   \n",
      "10118       10126  714337233               1      0.361702       0   \n",
      "\n",
      "       Dependent_count  Education_Level  Marital_Status  Income_Category  \\\n",
      "0                    3                1               0                2   \n",
      "1                    3                3               0                3   \n",
      "2                    4                1               0                0   \n",
      "3                    3                0               0                2   \n",
      "4                    2                3               0                1   \n",
      "...                ...              ...             ...              ...   \n",
      "10114                2                3               1                1   \n",
      "10115                2                2               3                1   \n",
      "10116                1                1               0                0   \n",
      "10117                2                3               1                1   \n",
      "10118                2                3               0                0   \n",
      "\n",
      "       Card_Category  ...  Months_Inactive_12_mon  Contacts_Count_12_mon  \\\n",
      "0                  0  ...                       1                      3   \n",
      "1                  0  ...                       1                      0   \n",
      "2                  0  ...                       4                      1   \n",
      "3                  0  ...                       1                      0   \n",
      "4                  0  ...                       1                      2   \n",
      "...              ...  ...                     ...                    ...   \n",
      "10114              0  ...                       2                      3   \n",
      "10115              0  ...                       2                      3   \n",
      "10116              0  ...                       3                      4   \n",
      "10117              0  ...                       3                      3   \n",
      "10118              1  ...                       2                      4   \n",
      "\n",
      "       Credit_Limit  Total_Revolving_Bal  Avg_Open_To_Buy  \\\n",
      "0          0.340190             0.308701         0.345116   \n",
      "1          0.059850             0.000000         0.098948   \n",
      "2          0.056676             1.000000         0.022977   \n",
      "3          0.099091             0.000000         0.136557   \n",
      "4          0.077747             0.495431         0.079970   \n",
      "...             ...                  ...              ...   \n",
      "10114      0.077536             0.735399         0.062266   \n",
      "10115      0.085819             0.868494         0.060499   \n",
      "10116      0.120042             0.000000         0.156637   \n",
      "10117      0.116172             0.000000         0.152928   \n",
      "10118      0.270566             0.779102         0.244082   \n",
      "\n",
      "       Total_Amt_Chng_Q4_Q1  Total_Trans_Amt  Total_Trans_Ct  \\\n",
      "0                  0.392994         0.035273        0.248062   \n",
      "1                  0.763615         0.076611        0.077519   \n",
      "2                  0.413600         0.036775        0.077519   \n",
      "3                  0.640271         0.017025        0.139535   \n",
      "4                  0.405063         0.032158        0.108527   \n",
      "...                     ...              ...             ...   \n",
      "10114              0.206947         0.832647        0.829457   \n",
      "10115              0.236679         0.459219        0.457364   \n",
      "10116              0.241095         0.544175        0.387597   \n",
      "10117              0.157492         0.438689        0.403101   \n",
      "10118              0.206947         0.544342        0.395349   \n",
      "\n",
      "       Total_Ct_Chng_Q4_Q1  Avg_Utilization_Ratio  \n",
      "0                 0.437534               0.061061  \n",
      "1                 0.628164               0.000000  \n",
      "2                 0.628164               0.760761  \n",
      "3                 0.673129               0.000000  \n",
      "4                 0.227787               0.311311  \n",
      "...                    ...                    ...  \n",
      "10114             0.230749               0.462462  \n",
      "10115             0.183899               0.511512  \n",
      "10116             0.220248               0.000000  \n",
      "10117             0.194400               0.000000  \n",
      "10118             0.174744               0.189189  \n",
      "\n",
      "[10119 rows x 22 columns]\n"
     ]
    }
   ],
   "source": [
    "import pandas\n",
    "import sklearn.neighbors\n",
    "from sklearn.model_selection import train_test_split\n",
    "from sklearn.metrics import accuracy_score\n",
    "from sklearn.metrics import classification_report\n",
    "from sklearn.naive_bayes import CategoricalNB\n",
    "import numpy as np\n",
    "from sklearn.tree import DecisionTreeClassifier\n",
    "from sklearn.ensemble import RandomForestClassifier\n",
    "from sklearn.svm import SVC\n",
    "from sklearn.model_selection import GridSearchCV\n",
    "from sklearn.model_selection import RandomizedSearchCV\n",
    "\n",
    "dat=pandas.read_csv(\"Preprocessed.csv\",  delimiter=\",\")\n",
    "\n",
    "dat=dat.drop(columns=['Naive_Bayes_Classifier_Attrition_Flag_Card_Category_Contacts_Count_12_mon_Dependent_count_Education_Level_Months_Inactive_12_mon_1', 'Naive_Bayes_Classifier_Attrition_Flag_Card_Category_Contacts_Count_12_mon_Dependent_count_Education_Level_Months_Inactive_12_mon_2'])\n",
    "\n",
    "print(dat)"
   ]
  },
  {
   "cell_type": "code",
   "execution_count": 82,
   "id": "unnecessary-thompson",
   "metadata": {},
   "outputs": [
    {
     "name": "stdout",
     "output_type": "stream",
     "text": [
      "NB: accuracy\n",
      "['Attrition_Flag', 'Gender', 'Dependent_count', 'Education_Level', 'Marital_Status', 'Income_Category', 'Card_Category', 'Total_Relationship_Count', 'Months_Inactive_12_mon', 'Contacts_Count_12_mon']\n",
      "0.847562582345191\n",
      "              precision    recall  f1-score   support\n",
      "\n",
      "           0     0.8476    0.9967    0.9161      2121\n",
      "           1     0.8056    0.0709    0.1303       409\n",
      "\n",
      "    accuracy                         0.8470      2530\n",
      "   macro avg     0.8266    0.5338    0.5232      2530\n",
      "weighted avg     0.8408    0.8470    0.7891      2530\n",
      "\n"
     ]
    }
   ],
   "source": [
    "print(\"NB: accuracy\")\n",
    "\n",
    "cols=[]\n",
    "for el in dat.columns:\n",
    "    if len(dat[el].value_counts())<=10:\n",
    "        cols.append(el)\n",
    "        \n",
    "print(cols)\n",
    "\n",
    "TESTS=3\n",
    "\n",
    "x_train, x_test, y_train, y_test = [0]*TESTS,[0]*TESTS,[0]*TESTS,[0]*TESTS\n",
    "for i in range (TESTS):\n",
    "    x_train[i], x_test[i], y_train[i], y_test[i]= train_test_split(\n",
    "        dat[cols[1:]],dat[\"Attrition_Flag\"])\n",
    "\n",
    "nb=sklearn.naive_bayes.CategoricalNB()\n",
    "ac=0\n",
    "for i in range (TESTS):\n",
    "    nb.fit(x_train[i], y_train[i])\n",
    "    ddd=nb.predict(x_test[i])\n",
    "    ac+=accuracy_score(y_test[i],ddd)\n",
    "print(ac/TESTS)\n",
    "print(classification_report(y_test[TESTS-1], ddd,digits=4))"
   ]
  },
  {
   "cell_type": "code",
   "execution_count": 83,
   "id": "honey-quantum",
   "metadata": {},
   "outputs": [],
   "source": [
    "TESTS=3\n",
    "\n",
    "x_train, x_test, y_train, y_test = [0]*TESTS,[0]*TESTS,[0]*TESTS,[0]*TESTS\n",
    "for i in range (TESTS):\n",
    "    x_train[i], x_test[i], y_train[i], y_test[i]= train_test_split(\n",
    "        dat.drop(columns=[\"Attrition_Flag\"]),dat[\"Attrition_Flag\"])"
   ]
  },
  {
   "cell_type": "code",
   "execution_count": 84,
   "id": "dirty-stockholm",
   "metadata": {},
   "outputs": [
    {
     "name": "stdout",
     "output_type": "stream",
     "text": [
      "KNN, k=5: uniform accuracy, distance accuracy\n",
      "0.8175230566534913 0.7986824769433465\n",
      "              precision    recall  f1-score   support\n",
      "\n",
      "           0     0.8479    0.9640    0.9023      2140\n",
      "           1     0.2062    0.0513    0.0821       390\n",
      "\n",
      "    accuracy                         0.8233      2530\n",
      "   macro avg     0.5271    0.5077    0.4922      2530\n",
      "weighted avg     0.7490    0.8233    0.7758      2530\n",
      "\n",
      "              precision    recall  f1-score   support\n",
      "\n",
      "           0     0.8481    0.9285    0.8865      2140\n",
      "           1     0.1818    0.0872    0.1179       390\n",
      "\n",
      "    accuracy                         0.7988      2530\n",
      "   macro avg     0.5149    0.5078    0.5022      2530\n",
      "weighted avg     0.7454    0.7988    0.7680      2530\n",
      "\n"
     ]
    }
   ],
   "source": [
    "print(\"KNN, k=5: uniform accuracy, distance accuracy\")\n",
    "\n",
    "knnu=sklearn.neighbors.KNeighborsClassifier(n_neighbors=5,weights='uniform')\n",
    "knnd=sklearn.neighbors.KNeighborsClassifier(n_neighbors=5,weights='distance')\n",
    "au=0\n",
    "ad=0\n",
    "for i in range (TESTS):\n",
    "    knnu.fit(x_train[i], y_train[i])\n",
    "    knnd.fit(x_train[i], y_train[i])\n",
    "    dddu=knnu.predict(x_test[i])\n",
    "    dddd=knnd.predict(x_test[i])\n",
    "    au+=accuracy_score(y_test[i], dddu)\n",
    "    ad+=accuracy_score(y_test[i], dddd)\n",
    "print(au/TESTS,ad/TESTS)\n",
    "print(classification_report(y_test[TESTS-1], dddu,digits=4))\n",
    "print(classification_report(y_test[TESTS-1], dddd,digits=4))"
   ]
  },
  {
   "cell_type": "code",
   "execution_count": 90,
   "id": "cosmetic-blake",
   "metadata": {},
   "outputs": [
    {
     "name": "stdout",
     "output_type": "stream",
     "text": [
      "DecisionTree: accuracy\n",
      "0.9731225296442688\n",
      "              precision    recall  f1-score   support\n",
      "\n",
      "           0     0.9855    0.9836    0.9846      2140\n",
      "           1     0.9112    0.9205    0.9158       390\n",
      "\n",
      "    accuracy                         0.9739      2530\n",
      "   macro avg     0.9483    0.9521    0.9502      2530\n",
      "weighted avg     0.9740    0.9739    0.9740      2530\n",
      "\n"
     ]
    }
   ],
   "source": [
    "print(\"DecisionTree: accuracy\")\n",
    "\n",
    "dt=sklearn.tree.DecisionTreeClassifier()\n",
    "ac=0\n",
    "for i in range (TESTS):\n",
    "    dt.fit(x_train[i], y_train[i])\n",
    "    ddd=dt.predict(x_test[i])\n",
    "    ac+=accuracy_score(y_test[i], ddd)\n",
    "print(ac/TESTS)\n",
    "print(classification_report(y_test[TESTS-1], ddd,digits=4))"
   ]
  },
  {
   "cell_type": "code",
   "execution_count": 88,
   "id": "individual-graduate",
   "metadata": {},
   "outputs": [
    {
     "name": "stdout",
     "output_type": "stream",
     "text": [
      "RandomForest: accuracy\n",
      "0.9849802371541502\n",
      "              precision    recall  f1-score   support\n",
      "\n",
      "           0     0.9898    0.9949    0.9923      2140\n",
      "           1     0.9710    0.9436    0.9571       390\n",
      "\n",
      "    accuracy                         0.9870      2530\n",
      "   macro avg     0.9804    0.9692    0.9747      2530\n",
      "weighted avg     0.9869    0.9870    0.9869      2530\n",
      "\n"
     ]
    }
   ],
   "source": [
    "print(\"RandomForest: accuracy\")\n",
    "\n",
    "\n",
    "rf=sklearn.ensemble.RandomForestClassifier()\n",
    "ac=0\n",
    "for i in range (TESTS):\n",
    "    rf.fit(x_train[i], y_train[i])\n",
    "    ddd=rf.predict(x_test[i])\n",
    "    ac+=accuracy_score(y_test[i], ddd)\n",
    "print(ac/TESTS)\n",
    "print(classification_report(y_test[TESTS-1], ddd,digits=4))"
   ]
  },
  {
   "cell_type": "code",
   "execution_count": 89,
   "id": "eleven-shirt",
   "metadata": {},
   "outputs": [
    {
     "name": "stdout",
     "output_type": "stream",
     "text": [
      "SVC: accuracy\n",
      "0.8424242424242424\n",
      "              precision    recall  f1-score   support\n",
      "\n",
      "           0     0.8458    1.0000    0.9165      2140\n",
      "           1     0.0000    0.0000    0.0000       390\n",
      "\n",
      "    accuracy                         0.8458      2530\n",
      "   macro avg     0.4229    0.5000    0.4582      2530\n",
      "weighted avg     0.7155    0.8458    0.7752      2530\n",
      "\n"
     ]
    }
   ],
   "source": [
    "print(\"SVC: accuracy\")\n",
    "\n",
    "svmc=sklearn.svm.SVC()\n",
    "ac=0\n",
    "for i in range (TESTS):\n",
    "    svmc.fit(x_train[i], y_train[i])\n",
    "    ddd=svmc.predict(x_test[i])\n",
    "    ac+=accuracy_score(y_test[i], ddd)\n",
    "print(ac/TESTS)\n",
    "print(classification_report(y_test[TESTS-1], ddd,digits=4,zero_division=0))"
   ]
  },
  {
   "cell_type": "markdown",
   "id": "endangered-compound",
   "metadata": {},
   "source": [
    "Decision Tree and Random Forest are much better, so they will be used"
   ]
  },
  {
   "cell_type": "markdown",
   "id": "strategic-scoop",
   "metadata": {},
   "source": [
    "Tuning parameters"
   ]
  },
  {
   "cell_type": "code",
   "execution_count": 110,
   "id": "transparent-richardson",
   "metadata": {},
   "outputs": [
    {
     "name": "stdout",
     "output_type": "stream",
     "text": [
      "DecisionTreeClassifier(criterion='entropy', min_samples_split=3)\n",
      "0.9737785119545459\n"
     ]
    }
   ],
   "source": [
    "par_dt={\"criterion\":[\"gini\", \"entropy\"],\"min_samples_split\": [1.0]+list(range(2,5)),\"max_features\":[None,\"auto\", \"sqrt\", \"log2\"]}\n",
    "\n",
    "gr_scv_dt=GridSearchCV(estimator=dt,param_grid=par_dt)\n",
    "gr_scv_dt.fit(x_train[0],y_train[0])\n",
    "print(gr_scv_dt.best_estimator_)\n",
    "print(gr_scv_dt.best_score_)"
   ]
  },
  {
   "cell_type": "code",
   "execution_count": 122,
   "id": "determined-hartford",
   "metadata": {},
   "outputs": [
    {
     "name": "stdout",
     "output_type": "stream",
     "text": [
      "RandomForestClassifier(max_features=None, n_estimators=1000)\n",
      "0.9839246553986746\n"
     ]
    }
   ],
   "source": [
    "par_rf={\"criterion\":[\"gini\", \"entropy\"],\"n_estimators\":[10,60,100,150,200,400,600,1000],\"min_samples_split\": [1.0,2,3,5],\"max_features\":[None,\"auto\", \"sqrt\", \"log2\"]}\n",
    "\n",
    "rd_scv_rf=RandomizedSearchCV(estimator=rf,param_distributions=par_rf,n_iter=10)\n",
    "rd_scv_rf.fit(x_train[0],y_train[0])\n",
    "print(rd_scv_rf.best_estimator_)\n",
    "print(rd_scv_rf.best_score_)"
   ]
  },
  {
   "cell_type": "code",
   "execution_count": 123,
   "id": "interesting-cooler",
   "metadata": {},
   "outputs": [
    {
     "name": "stdout",
     "output_type": "stream",
     "text": [
      "0.9841897233201581\n",
      "              precision    recall  f1-score   support\n",
      "\n",
      "           0     0.9906    0.9902    0.9904      2140\n",
      "           1     0.9463    0.9487    0.9475       390\n",
      "\n",
      "    accuracy                         0.9838      2530\n",
      "   macro avg     0.9685    0.9695    0.9690      2530\n",
      "weighted avg     0.9838    0.9838    0.9838      2530\n",
      "\n"
     ]
    }
   ],
   "source": [
    "model=sklearn.ensemble.RandomForestClassifier(max_features=None, n_estimators=1000)\n",
    "ac=0\n",
    "for i in range (TESTS):\n",
    "    model.fit(x_train[i], y_train[i])\n",
    "    ddd=model.predict(x_test[i])\n",
    "    ac+=accuracy_score(y_test[i], ddd)\n",
    "print(ac/TESTS)\n",
    "print(classification_report(y_test[TESTS-1], ddd,digits=4))"
   ]
  },
  {
   "cell_type": "code",
   "execution_count": null,
   "id": "detected-praise",
   "metadata": {},
   "outputs": [],
   "source": []
  }
 ],
 "metadata": {
  "kernelspec": {
   "display_name": "Python 3",
   "language": "python",
   "name": "python3"
  },
  "language_info": {
   "codemirror_mode": {
    "name": "ipython",
    "version": 3
   },
   "file_extension": ".py",
   "mimetype": "text/x-python",
   "name": "python",
   "nbconvert_exporter": "python",
   "pygments_lexer": "ipython3",
   "version": "3.9.1"
  }
 },
 "nbformat": 4,
 "nbformat_minor": 5
}
