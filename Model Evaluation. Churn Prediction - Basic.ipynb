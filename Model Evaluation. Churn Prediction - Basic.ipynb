{
 "cells": [
  {
   "cell_type": "code",
   "execution_count": 1,
   "id": "digital-disability",
   "metadata": {},
   "outputs": [],
   "source": [
    "import pandas as pd\n",
    "import numpy as np\n",
    "from sklearn.model_selection import train_test_split\n",
    "from sklearn.neighbors import KNeighborsClassifier\n",
    "from sklearn.naive_bayes import GaussianNB\n",
    "from sklearn.tree import DecisionTreeClassifier\n",
    "from sklearn.ensemble import RandomForestClassifier\n",
    "from sklearn.svm import SVC\n",
    "from sklearn.metrics import confusion_matrix \n",
    "from sklearn.metrics import accuracy_score \n",
    "from sklearn.metrics import classification_report\n",
    "from sklearn.model_selection import KFold"
   ]
  },
  {
   "cell_type": "code",
   "execution_count": 2,
   "id": "indoor-robert",
   "metadata": {},
   "outputs": [],
   "source": [
    "def show_ME(Y_test, predicted):\n",
    "    print (\"Accuracy Score :\",accuracy_score(Y_test, predicted))\n",
    "    print (\"Confusion Matrix :\") \n",
    "    print(confusion_matrix(Y_test, predicted))  \n",
    "    print (\"Report : \") \n",
    "    print (classification_report(Y_test, predicted))\n",
    "\n",
    "def KNN(X_train, X_test, Y_train):\n",
    "    classifier =  KNeighborsClassifier()\n",
    "    classifier = classifier.fit(X_train, Y_train)\n",
    "    predicted = classifier.predict(X_test)\n",
    "    return predicted\n",
    "\n",
    "def Naive_Bayes(X_train, X_test, Y_train):\n",
    "    classifier =  GaussianNB()\n",
    "    classifier = classifier.fit(X_train, Y_train)\n",
    "    predicted = classifier.predict(X_test)\n",
    "    return predicted\n",
    "\n",
    "def Decision_Tree(X_train, X_test, Y_train):\n",
    "    classifier =  DecisionTreeClassifier()\n",
    "    classifier = classifier.fit(X_train, Y_train)\n",
    "    predicted = classifier.predict(X_test)\n",
    "    return predicted\n",
    "\n",
    "def Random_Forest(X_train, X_test, Y_train):\n",
    "    classifier =  RandomForestClassifier()\n",
    "    classifier = classifier.fit(X_train, Y_train)\n",
    "    predicted = classifier.predict(X_test)\n",
    "    return predicted\n",
    "\n",
    "def SVM(X_train, X_test, Y_train):\n",
    "    classifier =  SVC()\n",
    "    classifier = classifier.fit(X_train, Y_train)\n",
    "    predicted = classifier.predict(X_test)\n",
    "    return predicted\n",
    "\n",
    "def SVM_cross_validation():\n",
    "    acc_scores = []\n",
    "    kfold = KFold(20, shuffle=True, random_state=1)\n",
    "    for i in range(20):\n",
    "        arr1,arr2 = next(kfold.split(data))\n",
    "        X_train = data.iloc[arr1, 1:19]\n",
    "        X_test = data.iloc[arr2, 1:19]\n",
    "        Y_train = data.iloc[arr1, 0]\n",
    "        Y_test = data.iloc[arr2, 0]\n",
    "        pred = SVM(X_train, X_test, Y_train)\n",
    "        acc_scores.append(accuracy_score(Y_test, pred))   \n",
    "    return np.mean(acc_scores)"
   ]
  },
  {
   "cell_type": "code",
   "execution_count": 3,
   "id": "human-framework",
   "metadata": {},
   "outputs": [],
   "source": [
    "data = pd.read_csv(\"BankChurnersNormalized.csv\")\n",
    "\n",
    "X = data.iloc[:, 1:20].values \n",
    "Y = data.iloc[:, 0].values \n",
    "\n",
    "X_train, X_test, Y_train, Y_test = train_test_split(X, Y, test_size = 0.5)"
   ]
  },
  {
   "cell_type": "code",
   "execution_count": 4,
   "id": "popular-scanning",
   "metadata": {},
   "outputs": [
    {
     "name": "stdout",
     "output_type": "stream",
     "text": [
      "KNN\n",
      "\n",
      "Accuracy Score : 0.8817648337317975\n",
      "Confusion Matrix :\n",
      "[[3688  165]\n",
      " [ 379  369]]\n",
      "Report : \n",
      "              precision    recall  f1-score   support\n",
      "\n",
      "           0       0.91      0.96      0.93      3853\n",
      "           1       0.69      0.49      0.58       748\n",
      "\n",
      "    accuracy                           0.88      4601\n",
      "   macro avg       0.80      0.73      0.75      4601\n",
      "weighted avg       0.87      0.88      0.87      4601\n",
      "\n"
     ]
    }
   ],
   "source": [
    "# KNN\n",
    "k = 15\n",
    "pred1 = KNN(X_train, X_test, Y_train)\n",
    "print(\"KNN\\n\")\n",
    "show_ME(Y_test, pred1)"
   ]
  },
  {
   "cell_type": "code",
   "execution_count": 5,
   "id": "skilled-joyce",
   "metadata": {},
   "outputs": [
    {
     "name": "stdout",
     "output_type": "stream",
     "text": [
      "NAIVE BAYES\n",
      "\n",
      "Accuracy Score : 0.8841556183438383\n",
      "Confusion Matrix :\n",
      "[[3680  173]\n",
      " [ 360  388]]\n",
      "Report : \n",
      "              precision    recall  f1-score   support\n",
      "\n",
      "           0       0.91      0.96      0.93      3853\n",
      "           1       0.69      0.52      0.59       748\n",
      "\n",
      "    accuracy                           0.88      4601\n",
      "   macro avg       0.80      0.74      0.76      4601\n",
      "weighted avg       0.88      0.88      0.88      4601\n",
      "\n"
     ]
    }
   ],
   "source": [
    "# Naive Bayes\n",
    "pred2 = Naive_Bayes(X_train, X_test, Y_train)\n",
    "print(\"NAIVE BAYES\\n\")\n",
    "show_ME(Y_test, pred2)"
   ]
  },
  {
   "cell_type": "code",
   "execution_count": 6,
   "id": "outdoor-chess",
   "metadata": {},
   "outputs": [
    {
     "name": "stdout",
     "output_type": "stream",
     "text": [
      "DECISION TREE\n",
      "\n",
      "Accuracy Score : 0.9334927189741361\n",
      "Confusion Matrix :\n",
      "[[3702  151]\n",
      " [ 155  593]]\n",
      "Report : \n",
      "              precision    recall  f1-score   support\n",
      "\n",
      "           0       0.96      0.96      0.96      3853\n",
      "           1       0.80      0.79      0.79       748\n",
      "\n",
      "    accuracy                           0.93      4601\n",
      "   macro avg       0.88      0.88      0.88      4601\n",
      "weighted avg       0.93      0.93      0.93      4601\n",
      "\n"
     ]
    }
   ],
   "source": [
    "# Decision Tree\n",
    "pred3 = Decision_Tree(X_train, X_test, Y_train)\n",
    "print(\"DECISION TREE\\n\")\n",
    "show_ME(Y_test, pred3)"
   ]
  },
  {
   "cell_type": "code",
   "execution_count": 7,
   "id": "reasonable-somewhere",
   "metadata": {},
   "outputs": [
    {
     "name": "stdout",
     "output_type": "stream",
     "text": [
      "RANDOM FOREST\n",
      "\n",
      "Accuracy Score : 0.9552271245381438\n",
      "Confusion Matrix :\n",
      "[[3806   47]\n",
      " [ 159  589]]\n",
      "Report : \n",
      "              precision    recall  f1-score   support\n",
      "\n",
      "           0       0.96      0.99      0.97      3853\n",
      "           1       0.93      0.79      0.85       748\n",
      "\n",
      "    accuracy                           0.96      4601\n",
      "   macro avg       0.94      0.89      0.91      4601\n",
      "weighted avg       0.95      0.96      0.95      4601\n",
      "\n"
     ]
    }
   ],
   "source": [
    "# Random Forest\n",
    "pred4 = Random_Forest(X_train, X_test, Y_train)\n",
    "print(\"RANDOM FOREST\\n\")\n",
    "show_ME(Y_test, pred4)"
   ]
  },
  {
   "cell_type": "code",
   "execution_count": 8,
   "id": "reflected-repair",
   "metadata": {},
   "outputs": [],
   "source": [
    "X = data.iloc[:, 15:16].values \n",
    "Y = data.iloc[:, 0].values \n",
    "\n",
    "X_train, X_test, Y_train, Y_test = train_test_split(X, Y, test_size = 0.5)"
   ]
  },
  {
   "cell_type": "code",
   "execution_count": 9,
   "id": "dietary-figure",
   "metadata": {},
   "outputs": [
    {
     "name": "stdout",
     "output_type": "stream",
     "text": [
      "SVM\n",
      "\n",
      "Accuracy Score : 0.8393827428819822\n",
      "Confusion Matrix :\n",
      "[[3835   18]\n",
      " [ 721   27]]\n",
      "Report : \n",
      "              precision    recall  f1-score   support\n",
      "\n",
      "           0       0.84      1.00      0.91      3853\n",
      "           1       0.60      0.04      0.07       748\n",
      "\n",
      "    accuracy                           0.84      4601\n",
      "   macro avg       0.72      0.52      0.49      4601\n",
      "weighted avg       0.80      0.84      0.77      4601\n",
      "\n",
      "Cross-validation:\n",
      "\n",
      "Average accuracy score : 0.8481561822125812\n"
     ]
    }
   ],
   "source": [
    "# SVM\n",
    "pred5 = SVM(X_train, X_test, Y_train)\n",
    "print(\"SVM\\n\")\n",
    "show_ME(Y_test, pred5)\n",
    "print(\"Cross-validation:\")\n",
    "print(\"\\nAverage accuracy score :\", SVM_cross_validation())"
   ]
  },
  {
   "cell_type": "code",
   "execution_count": null,
   "id": "skilled-craps",
   "metadata": {},
   "outputs": [],
   "source": []
  }
 ],
 "metadata": {
  "kernelspec": {
   "display_name": "Python 3",
   "language": "python",
   "name": "python3"
  },
  "language_info": {
   "codemirror_mode": {
    "name": "ipython",
    "version": 3
   },
   "file_extension": ".py",
   "mimetype": "text/x-python",
   "name": "python",
   "nbconvert_exporter": "python",
   "pygments_lexer": "ipython3",
   "version": "3.9.1"
  }
 },
 "nbformat": 4,
 "nbformat_minor": 5
}
