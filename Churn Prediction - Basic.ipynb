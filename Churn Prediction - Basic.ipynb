{
 "cells": [
  {
   "cell_type": "code",
   "execution_count": 1,
   "id": "composite-rugby",
   "metadata": {},
   "outputs": [],
   "source": [
    "import numpy as np\n",
    "import matplotlib.pyplot as plt\n",
    "import seaborn as sns\n",
    "from matplotlib.colors import ListedColormap\n",
    "from sklearn import neighbors, datasets\n",
    "from sklearn.naive_bayes import BernoulliNB\n",
    "import re\n",
    "from sklearn.neighbors import NearestNeighbors\n",
    "import numpy as np\n",
    "import pandas as pd"
   ]
  },
  {
   "cell_type": "code",
   "execution_count": 2,
   "id": "geological-physiology",
   "metadata": {},
   "outputs": [],
   "source": [
    "df=pd.read_csv('BankChurners.csv')\n",
    "df_o=pd.read_csv('BankChurners.csv')"
   ]
  },
  {
   "cell_type": "code",
   "execution_count": 3,
   "id": "clinical-mainland",
   "metadata": {},
   "outputs": [
    {
     "name": "stdout",
     "output_type": "stream",
     "text": [
      "['Blue' 'Silver']\n",
      "[[0.00000000e+00 0.00000000e+00]\n",
      " [0.00000000e+00 0.00000000e+00]\n",
      " [0.00000000e+00 0.00000000e+00]\n",
      " ...\n",
      " [0.00000000e+00 0.00000000e+00]\n",
      " [0.00000000e+00 0.00000000e+00]\n",
      " [0.00000000e+00 1.48882806e-05]]\n",
      "[[ 2057  5914]\n",
      " [ 6229  1191]\n",
      " [ 4171   705]\n",
      " ...\n",
      " [10124  4246]\n",
      " [ 9415  8613]\n",
      " [10126  7618]]\n"
     ]
    }
   ],
   "source": [
    "X = np.array(df.iloc[:,21:].values)\n",
    "y=df.iloc[:,8].values\n",
    "clf = neighbors.KNeighborsClassifier(n_neighbors=8, weights='distance')\n",
    "clf.fit(X, y)\n",
    "g=clf.predict([[0.9,0.8],[8.5795e-05,0.99991]])\n",
    "print(g)\n",
    "nbrs = NearestNeighbors(n_neighbors=2, algorithm='ball_tree').fit(X,y)\n",
    "distances, indices = nbrs.kneighbors(X)\n",
    "print(distances)\n",
    "print(indices)"
   ]
  },
  {
   "cell_type": "code",
   "execution_count": 4,
   "id": "coupled-photograph",
   "metadata": {},
   "outputs": [],
   "source": [
    "person = {'M' : 1,'F' : 0}\n",
    "mani = {\"Less than $40K\" : 0, \"$40K - $60K\" : 1, \"$60K - $80K\" : 2,\"$80K - $120K\": 3,\"$120K +\" : 4, 'Unknown' :5}\n",
    "tich = {'Uneducated' : 0,'Graduate' : 1 ,'High School' : 2,'College' : 3,'Post-Graduate' : 4,'Doctorate' : 5, 'Unknown' :6}\n",
    "famile = {'Married' : 1, 'Single' : 0, 'Divorced' : 2, 'Unknown' :3}\n",
    "for i,j in enumerate(df['Gender']):\n",
    "    df.at[i, 'Gender'] = person[j] \n",
    "for i,j in enumerate(df['Education_Level']):\n",
    "    df.at[i, 'Education_Level'] = tich[j]\n",
    "for i,a in enumerate(df['Marital_Status']):\n",
    "    df.at[i, 'Marital_Status'] = famile[a]\n",
    "for i,j in enumerate(df['Income_Category']):  \n",
    "    df.at[i, 'Income_Category'] = mani[j] "
   ]
  },
  {
   "cell_type": "code",
   "execution_count": 6,
   "id": "healthy-consent",
   "metadata": {},
   "outputs": [
    {
     "name": "stdout",
     "output_type": "stream",
     "text": [
      "['$80K - $120K' 'Less than $40K' '$80K - $120K' '$80K - $120K'\n",
      " '$80K - $120K' '$60K - $80K' '$80K - $120K' '$80K - $120K' '$80K - $120K'\n",
      " '$80K - $120K' '$80K - $120K' '$80K - $120K' 'Less than $40K'\n",
      " '$80K - $120K' '$80K - $120K' '$80K - $120K' '$80K - $120K'\n",
      " 'Less than $40K' '$80K - $120K' 'Less than $40K' '$80K - $120K'\n",
      " 'Less than $40K' '$80K - $120K' 'Less than $40K' '$80K - $120K'\n",
      " '$80K - $120K' 'Less than $40K' '$80K - $120K']\n"
     ]
    }
   ],
   "source": [
    "X = np.array(df.iloc[:,2:7].values)\n",
    "y=df_o.iloc[:,7].values\n",
    "clf = BernoulliNB()\n",
    "clf.fit(X, y)\n",
    "print(clf.predict(X[2:30]))"
   ]
  },
  {
   "cell_type": "code",
   "execution_count": null,
   "id": "starting-meeting",
   "metadata": {},
   "outputs": [],
   "source": []
  }
 ],
 "metadata": {
  "kernelspec": {
   "display_name": "Python 3",
   "language": "python",
   "name": "python3"
  },
  "language_info": {
   "codemirror_mode": {
    "name": "ipython",
    "version": 3
   },
   "file_extension": ".py",
   "mimetype": "text/x-python",
   "name": "python",
   "nbconvert_exporter": "python",
   "pygments_lexer": "ipython3",
   "version": "3.8.2"
  }
 },
 "nbformat": 4,
 "nbformat_minor": 5
}
