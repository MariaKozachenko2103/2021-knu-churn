{
 "cells": [
  {
   "cell_type": "code",
   "execution_count": 2,
   "metadata": {
    "collapsed": true
   },
   "outputs": [
    {
     "name": "stdout",
     "output_type": "stream",
     "text": [
      "Requirement already satisfied: pandas in d:\\onedrive\\pythonpr\\samsung_knu_2021_practice\\2021-knu-churn\\venv\\lib\\site-packages (0.25.3)\n",
      "Requirement already satisfied: pytz>=2017.2 in d:\\onedrive\\pythonpr\\samsung_knu_2021_practice\\2021-knu-churn\\venv\\lib\\site-packages (from pandas) (2020.5)\n",
      "Requirement already satisfied: numpy>=1.13.3 in d:\\onedrive\\pythonpr\\samsung_knu_2021_practice\\2021-knu-churn\\venv\\lib\\site-packages (from pandas) (1.19.5)\n",
      "Requirement already satisfied: python-dateutil>=2.6.1 in d:\\onedrive\\pythonpr\\samsung_knu_2021_practice\\2021-knu-churn\\venv\\lib\\site-packages (from pandas) (2.8.1)\n",
      "Requirement already satisfied: six>=1.5 in d:\\onedrive\\pythonpr\\samsung_knu_2021_practice\\2021-knu-churn\\venv\\lib\\site-packages (from python-dateutil>=2.6.1->pandas) (1.15.0)\n",
      "Requirement already satisfied: seaborn in d:\\onedrive\\pythonpr\\samsung_knu_2021_practice\\2021-knu-churn\\venv\\lib\\site-packages (0.11.1)\n",
      "Requirement already satisfied: pandas>=0.23 in d:\\onedrive\\pythonpr\\samsung_knu_2021_practice\\2021-knu-churn\\venv\\lib\\site-packages (from seaborn) (0.25.3)\n",
      "Requirement already satisfied: numpy>=1.15 in d:\\onedrive\\pythonpr\\samsung_knu_2021_practice\\2021-knu-churn\\venv\\lib\\site-packages (from seaborn) (1.19.5)\n",
      "Requirement already satisfied: scipy>=1.0 in d:\\onedrive\\pythonpr\\samsung_knu_2021_practice\\2021-knu-churn\\venv\\lib\\site-packages (from seaborn) (1.5.4)\n",
      "Requirement already satisfied: matplotlib>=2.2 in d:\\onedrive\\pythonpr\\samsung_knu_2021_practice\\2021-knu-churn\\venv\\lib\\site-packages (from seaborn) (3.3.3)\n",
      "Requirement already satisfied: kiwisolver>=1.0.1 in d:\\onedrive\\pythonpr\\samsung_knu_2021_practice\\2021-knu-churn\\venv\\lib\\site-packages (from matplotlib>=2.2->seaborn) (1.3.1)\n",
      "Requirement already satisfied: pyparsing!=2.0.4,!=2.1.2,!=2.1.6,>=2.0.3 in d:\\onedrive\\pythonpr\\samsung_knu_2021_practice\\2021-knu-churn\\venv\\lib\\site-packages (from matplotlib>=2.2->seaborn) (2.4.7)\n",
      "Requirement already satisfied: pillow>=6.2.0 in d:\\onedrive\\pythonpr\\samsung_knu_2021_practice\\2021-knu-churn\\venv\\lib\\site-packages (from matplotlib>=2.2->seaborn) (8.1.0)\n",
      "Requirement already satisfied: python-dateutil>=2.1 in d:\\onedrive\\pythonpr\\samsung_knu_2021_practice\\2021-knu-churn\\venv\\lib\\site-packages (from matplotlib>=2.2->seaborn) (2.8.1)\n",
      "Requirement already satisfied: cycler>=0.10 in d:\\onedrive\\pythonpr\\samsung_knu_2021_practice\\2021-knu-churn\\venv\\lib\\site-packages (from matplotlib>=2.2->seaborn) (0.10.0)\n",
      "Requirement already satisfied: six in d:\\onedrive\\pythonpr\\samsung_knu_2021_practice\\2021-knu-churn\\venv\\lib\\site-packages (from cycler>=0.10->matplotlib>=2.2->seaborn) (1.15.0)\n",
      "Requirement already satisfied: pytz>=2017.2 in d:\\onedrive\\pythonpr\\samsung_knu_2021_practice\\2021-knu-churn\\venv\\lib\\site-packages (from pandas>=0.23->seaborn) (2020.5)\n",
      "Requirement already satisfied: numpy in d:\\onedrive\\pythonpr\\samsung_knu_2021_practice\\2021-knu-churn\\venv\\lib\\site-packages (1.19.5)\n",
      "Requirement already satisfied: matplotlib in d:\\onedrive\\pythonpr\\samsung_knu_2021_practice\\2021-knu-churn\\venv\\lib\\site-packages (3.3.3)\n",
      "Requirement already satisfied: pillow>=6.2.0 in d:\\onedrive\\pythonpr\\samsung_knu_2021_practice\\2021-knu-churn\\venv\\lib\\site-packages (from matplotlib) (8.1.0)\n",
      "Requirement already satisfied: pyparsing!=2.0.4,!=2.1.2,!=2.1.6,>=2.0.3 in d:\\onedrive\\pythonpr\\samsung_knu_2021_practice\\2021-knu-churn\\venv\\lib\\site-packages (from matplotlib) (2.4.7)\n",
      "Requirement already satisfied: cycler>=0.10 in d:\\onedrive\\pythonpr\\samsung_knu_2021_practice\\2021-knu-churn\\venv\\lib\\site-packages (from matplotlib) (0.10.0)\n",
      "Requirement already satisfied: python-dateutil>=2.1 in d:\\onedrive\\pythonpr\\samsung_knu_2021_practice\\2021-knu-churn\\venv\\lib\\site-packages (from matplotlib) (2.8.1)\n",
      "Requirement already satisfied: kiwisolver>=1.0.1 in d:\\onedrive\\pythonpr\\samsung_knu_2021_practice\\2021-knu-churn\\venv\\lib\\site-packages (from matplotlib) (1.3.1)\n",
      "Requirement already satisfied: numpy>=1.15 in d:\\onedrive\\pythonpr\\samsung_knu_2021_practice\\2021-knu-churn\\venv\\lib\\site-packages (from matplotlib) (1.19.5)\n",
      "Requirement already satisfied: six in d:\\onedrive\\pythonpr\\samsung_knu_2021_practice\\2021-knu-churn\\venv\\lib\\site-packages (from cycler>=0.10->matplotlib) (1.15.0)\n",
      "Requirement already satisfied: scikit-learn in d:\\onedrive\\pythonpr\\samsung_knu_2021_practice\\2021-knu-churn\\venv\\lib\\site-packages (0.24.1)\n",
      "Requirement already satisfied: scipy>=0.19.1 in d:\\onedrive\\pythonpr\\samsung_knu_2021_practice\\2021-knu-churn\\venv\\lib\\site-packages (from scikit-learn) (1.5.4)\n",
      "Requirement already satisfied: numpy>=1.13.3 in d:\\onedrive\\pythonpr\\samsung_knu_2021_practice\\2021-knu-churn\\venv\\lib\\site-packages (from scikit-learn) (1.19.5)\n",
      "Requirement already satisfied: joblib>=0.11 in d:\\onedrive\\pythonpr\\samsung_knu_2021_practice\\2021-knu-churn\\venv\\lib\\site-packages (from scikit-learn) (1.0.0)\n",
      "Requirement already satisfied: threadpoolctl>=2.0.0 in d:\\onedrive\\pythonpr\\samsung_knu_2021_practice\\2021-knu-churn\\venv\\lib\\site-packages (from scikit-learn) (2.1.0)\n"
     ]
    },
    {
     "name": "stderr",
     "output_type": "stream",
     "text": [
      "WARNING: You are using pip version 21.0; however, version 21.0.1 is available.\n",
      "You should consider upgrading via the 'd:\\onedrive\\pythonpr\\samsung_knu_2021_practice\\2021-knu-churn\\venv\\scripts\\python.exe -m pip install --upgrade pip' command.\n",
      "WARNING: You are using pip version 21.0; however, version 21.0.1 is available.\n",
      "You should consider upgrading via the 'd:\\onedrive\\pythonpr\\samsung_knu_2021_practice\\2021-knu-churn\\venv\\scripts\\python.exe -m pip install --upgrade pip' command.\n",
      "WARNING: You are using pip version 21.0; however, version 21.0.1 is available.\n",
      "You should consider upgrading via the 'd:\\onedrive\\pythonpr\\samsung_knu_2021_practice\\2021-knu-churn\\venv\\scripts\\python.exe -m pip install --upgrade pip' command.\n",
      "WARNING: You are using pip version 21.0; however, version 21.0.1 is available.\n",
      "You should consider upgrading via the 'd:\\onedrive\\pythonpr\\samsung_knu_2021_practice\\2021-knu-churn\\venv\\scripts\\python.exe -m pip install --upgrade pip' command.\n",
      "WARNING: You are using pip version 21.0; however, version 21.0.1 is available.\n",
      "You should consider upgrading via the 'd:\\onedrive\\pythonpr\\samsung_knu_2021_practice\\2021-knu-churn\\venv\\scripts\\python.exe -m pip install --upgrade pip' command.\n"
     ]
    }
   ],
   "source": [
    "!pip install pandas\n",
    "\n",
    "!pip install seaborn\n",
    "!pip install numpy\n",
    "\n",
    "!pip install matplotlib\n",
    "\n",
    "!pip install scikit-learn\n",
    "\n",
    "import matplotlib.pyplot as plt\n",
    "\n",
    "import matplotlib\n",
    "\n",
    "import seaborn as sns\n",
    "\n",
    "import numpy as np\n",
    "\n",
    "import pandas as pd\n",
    "\n",
    "from sklearn import neighbors, metrics\n",
    "\n",
    "from sklearn.model_selection import train_test_split\n",
    "\n",
    "from sklearn.preprocessing import LabelEncoder\n",
    "\n",
    "from collections import Counter\n",
    "\n",
    "import re\n",
    "\n",
    "from sklearn.covariance import EllipticEnvelope\n",
    "\n",
    "from sklearn.linear_model import LinearRegression\n",
    "\n",
    "from sklearn.naive_bayes import GaussianNB\n",
    "\n",
    "from sklearn.tree import DecisionTreeClassifier\n",
    "\n",
    "from sklearn.model_selection import cross_val_score"
   ]
  },
  {
   "cell_type": "markdown",
   "source": [
    "# functions"
   ],
   "metadata": {
    "collapsed": false,
    "pycharm": {
     "name": "#%% md\n"
    }
   }
  },
  {
   "cell_type": "code",
   "execution_count": 91,
   "outputs": [],
   "source": [
    "def get_metrics(targets: np.ndarray, predicted_targets: np.ndarray, mode: str):\n",
    "    '''\n",
    "\n",
    "    :param targets:\n",
    "    :param predicted_targets:\n",
    "    :param mode: influence to return: mode = \"show_metrics\" - print metrics to the Console;\n",
    "                                        mode = \"return_metrics\" - return dict which consists all metrics values\n",
    "                                        with their names as keys\n",
    "    :return:\n",
    "    {\n",
    "    \"accuracy\": accuracy_value, \"precision\": precision_value,\n",
    "    \"recall\": recall_value, \"f1_score\": f1_score_value,\n",
    "    \"confusion_matrix\": confusion_matrix\n",
    "    }\n",
    "    '''\n",
    "    # token = (actual target, predicted target)\n",
    "    # 1 - positive target, 0 - negative target\n",
    "    tokens = [(j, i) for i in [1, 0] for j in [1, 0]]\n",
    "    # tokens = [true_pos_token,\n",
    "    #           false_pos_token,\n",
    "    #           false_neg_token,\n",
    "    #           true_neg_token]\n",
    "    c = Counter(zip(targets, predicted_targets))\n",
    "    [true_pos_value,\n",
    "     false_pos_value,\n",
    "     false_neg_value,\n",
    "     true_neg_value] = [c[token] for token in tokens]\n",
    "    accuracy = (true_neg_value + true_pos_value) / len(targets)\n",
    "    confusion_matrix = np.array([[true_pos_value, false_neg_value],\n",
    "                                 [false_pos_value, true_neg_value]])\n",
    "    if mode == \"show_metrics\":\n",
    "        print(f\"accuracy = {accuracy}\")\n",
    "        print(f\"confusion_matrix = \\n{confusion_matrix}\")\n",
    "    elif mode == \"return_metrics\":\n",
    "        res_dict = {\"accuracy\": accuracy, \"confusion_matrix\": confusion_matrix}\n",
    "        return res_dict"
   ],
   "metadata": {
    "collapsed": false,
    "pycharm": {
     "name": "#%%\n"
    }
   }
  },
  {
   "cell_type": "code",
   "execution_count": 25,
   "outputs": [
    {
     "data": {
      "text/plain": "       Attrition_Flag  Customer_Age  Gender  Dependent_count  Education_Level  \\\n0                   1      0.431818       1                3              2.0   \n1                   1      0.568182       1                3              4.0   \n2                   1      0.318182       0                4              2.0   \n3                   1      0.318182       1                3              1.0   \n4                   1      0.409091       1                2              4.0   \n...               ...           ...     ...              ...              ...   \n10115               1      0.545455       1                2              4.0   \n10116               0      0.340909       1                2              4.0   \n10117               0      0.409091       0                1              2.0   \n10118               0      0.090909       1                2              4.0   \n10119               0      0.386364       0                2              4.0   \n\n       Marital_Status  Income_Category  Card_Category  Months_on_book  \\\n0                 2.0        70.000000              1        0.604651   \n1                 2.0       100.000000              1        0.534884   \n2                 2.0        26.666667              1        0.488372   \n3                 2.0        70.000000              1        0.186047   \n4                 2.0        50.000000              1        0.534884   \n...               ...              ...            ...             ...   \n10115             1.0        50.000000              1        0.627907   \n10116             3.0        50.000000              1        0.279070   \n10117             2.0        26.666667              1        0.534884   \n10118             2.0        50.000000              1        0.534884   \n10119             2.0        26.666667              3        0.279070   \n\n       Total_Relationship_Count  ...  Credit_Limit  Total_Revolving_Bal  \\\n0                             5  ...      0.340190         3.087008e-01   \n1                             4  ...      0.059850         3.972984e-10   \n2                             3  ...      0.056676         1.000000e+00   \n3                             5  ...      0.099091         3.972984e-10   \n4                             3  ...      0.077747         4.954311e-01   \n...                         ...  ...           ...                  ...   \n10115                         3  ...      0.077536         7.353993e-01   \n10116                         4  ...      0.085819         8.684942e-01   \n10117                         5  ...      0.120042         3.972984e-10   \n10118                         4  ...      0.116172         3.972984e-10   \n10119                         6  ...      0.270566         7.791021e-01   \n\n       Avg_Open_To_Buy  Total_Amt_Chng_Q4_Q1  Total_Trans_Amt  Total_Trans_Ct  \\\n0             0.344983              0.499066         0.036260        0.250000   \n1             0.098765              0.969720         0.078753        0.078125   \n2             0.022779              0.525234         0.037804        0.078125   \n3             0.136382              0.813084         0.017501        0.140625   \n4             0.079783              0.514393         0.033057        0.109375   \n...                ...                   ...              ...             ...   \n10115         0.062076              0.262804         0.855934        0.835938   \n10116         0.060308              0.300561         0.472062        0.460938   \n10117         0.156466              0.306169         0.559394        0.390625   \n10118         0.152756              0.200000         0.450958        0.406250   \n10119         0.243929              0.262804         0.559565        0.398438   \n\n       Total_Ct_Chng_Q4_Q1  Avg_Utilization_Ratio  \\\n0                 0.455055               0.061308   \n1                 0.653319               0.000001   \n2                 0.653319               0.763820   \n3                 0.700084               0.000001   \n4                 0.236909               0.312564   \n...                    ...                    ...   \n10115             0.239989               0.464323   \n10116             0.191263               0.513569   \n10117             0.229068               0.000001   \n10118             0.202185               0.000001   \n10119             0.181742               0.189951   \n\n       Naive_Bayes_Classifier_Attrition_Flag_Card_Category_Contacts_Count_12_mon_Dependent_count_Education_Level_Months_Inactive_12_mon_1  \\\n0                                               0.000087                                                                                    \n1                                               0.000014                                                                                    \n2                                               0.000127                                                                                    \n3                                               0.000015                                                                                    \n4                                               0.000048                                                                                    \n...                                                  ...                                                                                    \n10115                                           0.000185                                                                                    \n10116                                           0.995689                                                                                    \n10117                                           0.998300                                                                                    \n10118                                           0.997130                                                                                    \n10119                                           0.997040                                                                                    \n\n       Naive_Bayes_Classifier_Attrition_Flag_Card_Category_Contacts_Count_12_mon_Dependent_count_Education_Level_Months_Inactive_12_mon_2  \n0                                               0.999921                                                                                   \n1                                               0.999991                                                                                   \n2                                               0.999881                                                                                   \n3                                               0.999991                                                                                   \n4                                               0.999951                                                                                   \n...                                                  ...                                                                                   \n10115                                           0.999821                                                                                   \n10116                                           0.004312                                                                                   \n10117                                           0.001700                                                                                   \n10118                                           0.002876                                                                                   \n10119                                           0.002959                                                                                   \n\n[10120 rows x 22 columns]",
      "text/html": "<div>\n<style scoped>\n    .dataframe tbody tr th:only-of-type {\n        vertical-align: middle;\n    }\n\n    .dataframe tbody tr th {\n        vertical-align: top;\n    }\n\n    .dataframe thead th {\n        text-align: right;\n    }\n</style>\n<table border=\"1\" class=\"dataframe\">\n  <thead>\n    <tr style=\"text-align: right;\">\n      <th></th>\n      <th>Attrition_Flag</th>\n      <th>Customer_Age</th>\n      <th>Gender</th>\n      <th>Dependent_count</th>\n      <th>Education_Level</th>\n      <th>Marital_Status</th>\n      <th>Income_Category</th>\n      <th>Card_Category</th>\n      <th>Months_on_book</th>\n      <th>Total_Relationship_Count</th>\n      <th>...</th>\n      <th>Credit_Limit</th>\n      <th>Total_Revolving_Bal</th>\n      <th>Avg_Open_To_Buy</th>\n      <th>Total_Amt_Chng_Q4_Q1</th>\n      <th>Total_Trans_Amt</th>\n      <th>Total_Trans_Ct</th>\n      <th>Total_Ct_Chng_Q4_Q1</th>\n      <th>Avg_Utilization_Ratio</th>\n      <th>Naive_Bayes_Classifier_Attrition_Flag_Card_Category_Contacts_Count_12_mon_Dependent_count_Education_Level_Months_Inactive_12_mon_1</th>\n      <th>Naive_Bayes_Classifier_Attrition_Flag_Card_Category_Contacts_Count_12_mon_Dependent_count_Education_Level_Months_Inactive_12_mon_2</th>\n    </tr>\n  </thead>\n  <tbody>\n    <tr>\n      <th>0</th>\n      <td>1</td>\n      <td>0.431818</td>\n      <td>1</td>\n      <td>3</td>\n      <td>2.0</td>\n      <td>2.0</td>\n      <td>70.000000</td>\n      <td>1</td>\n      <td>0.604651</td>\n      <td>5</td>\n      <td>...</td>\n      <td>0.340190</td>\n      <td>3.087008e-01</td>\n      <td>0.344983</td>\n      <td>0.499066</td>\n      <td>0.036260</td>\n      <td>0.250000</td>\n      <td>0.455055</td>\n      <td>0.061308</td>\n      <td>0.000087</td>\n      <td>0.999921</td>\n    </tr>\n    <tr>\n      <th>1</th>\n      <td>1</td>\n      <td>0.568182</td>\n      <td>1</td>\n      <td>3</td>\n      <td>4.0</td>\n      <td>2.0</td>\n      <td>100.000000</td>\n      <td>1</td>\n      <td>0.534884</td>\n      <td>4</td>\n      <td>...</td>\n      <td>0.059850</td>\n      <td>3.972984e-10</td>\n      <td>0.098765</td>\n      <td>0.969720</td>\n      <td>0.078753</td>\n      <td>0.078125</td>\n      <td>0.653319</td>\n      <td>0.000001</td>\n      <td>0.000014</td>\n      <td>0.999991</td>\n    </tr>\n    <tr>\n      <th>2</th>\n      <td>1</td>\n      <td>0.318182</td>\n      <td>0</td>\n      <td>4</td>\n      <td>2.0</td>\n      <td>2.0</td>\n      <td>26.666667</td>\n      <td>1</td>\n      <td>0.488372</td>\n      <td>3</td>\n      <td>...</td>\n      <td>0.056676</td>\n      <td>1.000000e+00</td>\n      <td>0.022779</td>\n      <td>0.525234</td>\n      <td>0.037804</td>\n      <td>0.078125</td>\n      <td>0.653319</td>\n      <td>0.763820</td>\n      <td>0.000127</td>\n      <td>0.999881</td>\n    </tr>\n    <tr>\n      <th>3</th>\n      <td>1</td>\n      <td>0.318182</td>\n      <td>1</td>\n      <td>3</td>\n      <td>1.0</td>\n      <td>2.0</td>\n      <td>70.000000</td>\n      <td>1</td>\n      <td>0.186047</td>\n      <td>5</td>\n      <td>...</td>\n      <td>0.099091</td>\n      <td>3.972984e-10</td>\n      <td>0.136382</td>\n      <td>0.813084</td>\n      <td>0.017501</td>\n      <td>0.140625</td>\n      <td>0.700084</td>\n      <td>0.000001</td>\n      <td>0.000015</td>\n      <td>0.999991</td>\n    </tr>\n    <tr>\n      <th>4</th>\n      <td>1</td>\n      <td>0.409091</td>\n      <td>1</td>\n      <td>2</td>\n      <td>4.0</td>\n      <td>2.0</td>\n      <td>50.000000</td>\n      <td>1</td>\n      <td>0.534884</td>\n      <td>3</td>\n      <td>...</td>\n      <td>0.077747</td>\n      <td>4.954311e-01</td>\n      <td>0.079783</td>\n      <td>0.514393</td>\n      <td>0.033057</td>\n      <td>0.109375</td>\n      <td>0.236909</td>\n      <td>0.312564</td>\n      <td>0.000048</td>\n      <td>0.999951</td>\n    </tr>\n    <tr>\n      <th>...</th>\n      <td>...</td>\n      <td>...</td>\n      <td>...</td>\n      <td>...</td>\n      <td>...</td>\n      <td>...</td>\n      <td>...</td>\n      <td>...</td>\n      <td>...</td>\n      <td>...</td>\n      <td>...</td>\n      <td>...</td>\n      <td>...</td>\n      <td>...</td>\n      <td>...</td>\n      <td>...</td>\n      <td>...</td>\n      <td>...</td>\n      <td>...</td>\n      <td>...</td>\n      <td>...</td>\n    </tr>\n    <tr>\n      <th>10115</th>\n      <td>1</td>\n      <td>0.545455</td>\n      <td>1</td>\n      <td>2</td>\n      <td>4.0</td>\n      <td>1.0</td>\n      <td>50.000000</td>\n      <td>1</td>\n      <td>0.627907</td>\n      <td>3</td>\n      <td>...</td>\n      <td>0.077536</td>\n      <td>7.353993e-01</td>\n      <td>0.062076</td>\n      <td>0.262804</td>\n      <td>0.855934</td>\n      <td>0.835938</td>\n      <td>0.239989</td>\n      <td>0.464323</td>\n      <td>0.000185</td>\n      <td>0.999821</td>\n    </tr>\n    <tr>\n      <th>10116</th>\n      <td>0</td>\n      <td>0.340909</td>\n      <td>1</td>\n      <td>2</td>\n      <td>4.0</td>\n      <td>3.0</td>\n      <td>50.000000</td>\n      <td>1</td>\n      <td>0.279070</td>\n      <td>4</td>\n      <td>...</td>\n      <td>0.085819</td>\n      <td>8.684942e-01</td>\n      <td>0.060308</td>\n      <td>0.300561</td>\n      <td>0.472062</td>\n      <td>0.460938</td>\n      <td>0.191263</td>\n      <td>0.513569</td>\n      <td>0.995689</td>\n      <td>0.004312</td>\n    </tr>\n    <tr>\n      <th>10117</th>\n      <td>0</td>\n      <td>0.409091</td>\n      <td>0</td>\n      <td>1</td>\n      <td>2.0</td>\n      <td>2.0</td>\n      <td>26.666667</td>\n      <td>1</td>\n      <td>0.534884</td>\n      <td>5</td>\n      <td>...</td>\n      <td>0.120042</td>\n      <td>3.972984e-10</td>\n      <td>0.156466</td>\n      <td>0.306169</td>\n      <td>0.559394</td>\n      <td>0.390625</td>\n      <td>0.229068</td>\n      <td>0.000001</td>\n      <td>0.998300</td>\n      <td>0.001700</td>\n    </tr>\n    <tr>\n      <th>10118</th>\n      <td>0</td>\n      <td>0.090909</td>\n      <td>1</td>\n      <td>2</td>\n      <td>4.0</td>\n      <td>2.0</td>\n      <td>50.000000</td>\n      <td>1</td>\n      <td>0.534884</td>\n      <td>4</td>\n      <td>...</td>\n      <td>0.116172</td>\n      <td>3.972984e-10</td>\n      <td>0.152756</td>\n      <td>0.200000</td>\n      <td>0.450958</td>\n      <td>0.406250</td>\n      <td>0.202185</td>\n      <td>0.000001</td>\n      <td>0.997130</td>\n      <td>0.002876</td>\n    </tr>\n    <tr>\n      <th>10119</th>\n      <td>0</td>\n      <td>0.386364</td>\n      <td>0</td>\n      <td>2</td>\n      <td>4.0</td>\n      <td>2.0</td>\n      <td>26.666667</td>\n      <td>3</td>\n      <td>0.279070</td>\n      <td>6</td>\n      <td>...</td>\n      <td>0.270566</td>\n      <td>7.791021e-01</td>\n      <td>0.243929</td>\n      <td>0.262804</td>\n      <td>0.559565</td>\n      <td>0.398438</td>\n      <td>0.181742</td>\n      <td>0.189951</td>\n      <td>0.997040</td>\n      <td>0.002959</td>\n    </tr>\n  </tbody>\n</table>\n<p>10120 rows × 22 columns</p>\n</div>"
     },
     "execution_count": 25,
     "metadata": {},
     "output_type": "execute_result"
    }
   ],
   "source": [
    "preproc_data = pd.read_csv(\"pre-processing_BankChurners.csv\")\n",
    "x = preproc_data.drop([\"Attrition_Flag\",\n",
    "                       \"Naive_Bayes_Classifier_Attrition_Flag_Card_Category_Contacts_Count_12_mon_Dependent_count_Education_Level_Months_Inactive_12_mon_1\",\n",
    "                       \"Naive_Bayes_Classifier_Attrition_Flag_Card_Category_Contacts_Count_12_mon_Dependent_count_Education_Level_Months_Inactive_12_mon_2\"\n",
    "                       ], axis=1).values\n",
    "y = preproc_data[\"Attrition_Flag\"].values\n",
    "preproc_data"
   ],
   "metadata": {
    "collapsed": false,
    "pycharm": {
     "name": "#%%\n"
    }
   }
  },
  {
   "cell_type": "code",
   "execution_count": 7,
   "outputs": [
    {
     "data": {
      "text/plain": "1    8494\n0    1626\nName: Attrition_Flag, dtype: int64"
     },
     "execution_count": 7,
     "metadata": {},
     "output_type": "execute_result"
    }
   ],
   "source": [
    "preproc_data.Attrition_Flag.value_counts()"
   ],
   "metadata": {
    "collapsed": false,
    "pycharm": {
     "name": "#%%\n"
    }
   }
  },
  {
   "cell_type": "code",
   "execution_count": 24,
   "outputs": [
    {
     "data": {
      "text/plain": "       Customer_Age  Gender  Dependent_count  Education_Level  Marital_Status  \\\n0          0.431818       1                3              2.0             2.0   \n1          0.568182       1                3              4.0             2.0   \n2          0.318182       0                4              2.0             2.0   \n3          0.318182       1                3              1.0             2.0   \n4          0.409091       1                2              4.0             2.0   \n...             ...     ...              ...              ...             ...   \n10115      0.545455       1                2              4.0             1.0   \n10116      0.340909       1                2              4.0             3.0   \n10117      0.409091       0                1              2.0             2.0   \n10118      0.090909       1                2              4.0             2.0   \n10119      0.386364       0                2              4.0             2.0   \n\n       Income_Category  Card_Category  Months_on_book  \\\n0            70.000000              1        0.604651   \n1           100.000000              1        0.534884   \n2            26.666667              1        0.488372   \n3            70.000000              1        0.186047   \n4            50.000000              1        0.534884   \n...                ...            ...             ...   \n10115        50.000000              1        0.627907   \n10116        50.000000              1        0.279070   \n10117        26.666667              1        0.534884   \n10118        50.000000              1        0.534884   \n10119        26.666667              3        0.279070   \n\n       Total_Relationship_Count  Months_Inactive_12_mon  \\\n0                             5                       1   \n1                             4                       1   \n2                             3                       4   \n3                             5                       1   \n4                             3                       1   \n...                         ...                     ...   \n10115                         3                       2   \n10116                         4                       2   \n10117                         5                       3   \n10118                         4                       3   \n10119                         6                       2   \n\n       Contacts_Count_12_mon  Credit_Limit  Total_Revolving_Bal  \\\n0                          3      0.340190         3.087008e-01   \n1                          0      0.059850         3.972984e-10   \n2                          1      0.056676         1.000000e+00   \n3                          0      0.099091         3.972984e-10   \n4                          2      0.077747         4.954311e-01   \n...                      ...           ...                  ...   \n10115                      3      0.077536         7.353993e-01   \n10116                      3      0.085819         8.684942e-01   \n10117                      4      0.120042         3.972984e-10   \n10118                      3      0.116172         3.972984e-10   \n10119                      4      0.270566         7.791021e-01   \n\n       Avg_Open_To_Buy  Total_Amt_Chng_Q4_Q1  Total_Trans_Amt  Total_Trans_Ct  \\\n0             0.344983              0.499066         0.036260        0.250000   \n1             0.098765              0.969720         0.078753        0.078125   \n2             0.022779              0.525234         0.037804        0.078125   \n3             0.136382              0.813084         0.017501        0.140625   \n4             0.079783              0.514393         0.033057        0.109375   \n...                ...                   ...              ...             ...   \n10115         0.062076              0.262804         0.855934        0.835938   \n10116         0.060308              0.300561         0.472062        0.460938   \n10117         0.156466              0.306169         0.559394        0.390625   \n10118         0.152756              0.200000         0.450958        0.406250   \n10119         0.243929              0.262804         0.559565        0.398438   \n\n       Total_Ct_Chng_Q4_Q1  Avg_Utilization_Ratio  \\\n0                 0.455055               0.061308   \n1                 0.653319               0.000001   \n2                 0.653319               0.763820   \n3                 0.700084               0.000001   \n4                 0.236909               0.312564   \n...                    ...                    ...   \n10115             0.239989               0.464323   \n10116             0.191263               0.513569   \n10117             0.229068               0.000001   \n10118             0.202185               0.000001   \n10119             0.181742               0.189951   \n\n       Naive_Bayes_Classifier_Attrition_Flag_Card_Category_Contacts_Count_12_mon_Dependent_count_Education_Level_Months_Inactive_12_mon_2  \n0                                               0.999921                                                                                   \n1                                               0.999991                                                                                   \n2                                               0.999881                                                                                   \n3                                               0.999991                                                                                   \n4                                               0.999951                                                                                   \n...                                                  ...                                                                                   \n10115                                           0.999821                                                                                   \n10116                                           0.004312                                                                                   \n10117                                           0.001700                                                                                   \n10118                                           0.002876                                                                                   \n10119                                           0.002959                                                                                   \n\n[10120 rows x 20 columns]",
      "text/html": "<div>\n<style scoped>\n    .dataframe tbody tr th:only-of-type {\n        vertical-align: middle;\n    }\n\n    .dataframe tbody tr th {\n        vertical-align: top;\n    }\n\n    .dataframe thead th {\n        text-align: right;\n    }\n</style>\n<table border=\"1\" class=\"dataframe\">\n  <thead>\n    <tr style=\"text-align: right;\">\n      <th></th>\n      <th>Customer_Age</th>\n      <th>Gender</th>\n      <th>Dependent_count</th>\n      <th>Education_Level</th>\n      <th>Marital_Status</th>\n      <th>Income_Category</th>\n      <th>Card_Category</th>\n      <th>Months_on_book</th>\n      <th>Total_Relationship_Count</th>\n      <th>Months_Inactive_12_mon</th>\n      <th>Contacts_Count_12_mon</th>\n      <th>Credit_Limit</th>\n      <th>Total_Revolving_Bal</th>\n      <th>Avg_Open_To_Buy</th>\n      <th>Total_Amt_Chng_Q4_Q1</th>\n      <th>Total_Trans_Amt</th>\n      <th>Total_Trans_Ct</th>\n      <th>Total_Ct_Chng_Q4_Q1</th>\n      <th>Avg_Utilization_Ratio</th>\n      <th>Naive_Bayes_Classifier_Attrition_Flag_Card_Category_Contacts_Count_12_mon_Dependent_count_Education_Level_Months_Inactive_12_mon_2</th>\n    </tr>\n  </thead>\n  <tbody>\n    <tr>\n      <th>0</th>\n      <td>0.431818</td>\n      <td>1</td>\n      <td>3</td>\n      <td>2.0</td>\n      <td>2.0</td>\n      <td>70.000000</td>\n      <td>1</td>\n      <td>0.604651</td>\n      <td>5</td>\n      <td>1</td>\n      <td>3</td>\n      <td>0.340190</td>\n      <td>3.087008e-01</td>\n      <td>0.344983</td>\n      <td>0.499066</td>\n      <td>0.036260</td>\n      <td>0.250000</td>\n      <td>0.455055</td>\n      <td>0.061308</td>\n      <td>0.999921</td>\n    </tr>\n    <tr>\n      <th>1</th>\n      <td>0.568182</td>\n      <td>1</td>\n      <td>3</td>\n      <td>4.0</td>\n      <td>2.0</td>\n      <td>100.000000</td>\n      <td>1</td>\n      <td>0.534884</td>\n      <td>4</td>\n      <td>1</td>\n      <td>0</td>\n      <td>0.059850</td>\n      <td>3.972984e-10</td>\n      <td>0.098765</td>\n      <td>0.969720</td>\n      <td>0.078753</td>\n      <td>0.078125</td>\n      <td>0.653319</td>\n      <td>0.000001</td>\n      <td>0.999991</td>\n    </tr>\n    <tr>\n      <th>2</th>\n      <td>0.318182</td>\n      <td>0</td>\n      <td>4</td>\n      <td>2.0</td>\n      <td>2.0</td>\n      <td>26.666667</td>\n      <td>1</td>\n      <td>0.488372</td>\n      <td>3</td>\n      <td>4</td>\n      <td>1</td>\n      <td>0.056676</td>\n      <td>1.000000e+00</td>\n      <td>0.022779</td>\n      <td>0.525234</td>\n      <td>0.037804</td>\n      <td>0.078125</td>\n      <td>0.653319</td>\n      <td>0.763820</td>\n      <td>0.999881</td>\n    </tr>\n    <tr>\n      <th>3</th>\n      <td>0.318182</td>\n      <td>1</td>\n      <td>3</td>\n      <td>1.0</td>\n      <td>2.0</td>\n      <td>70.000000</td>\n      <td>1</td>\n      <td>0.186047</td>\n      <td>5</td>\n      <td>1</td>\n      <td>0</td>\n      <td>0.099091</td>\n      <td>3.972984e-10</td>\n      <td>0.136382</td>\n      <td>0.813084</td>\n      <td>0.017501</td>\n      <td>0.140625</td>\n      <td>0.700084</td>\n      <td>0.000001</td>\n      <td>0.999991</td>\n    </tr>\n    <tr>\n      <th>4</th>\n      <td>0.409091</td>\n      <td>1</td>\n      <td>2</td>\n      <td>4.0</td>\n      <td>2.0</td>\n      <td>50.000000</td>\n      <td>1</td>\n      <td>0.534884</td>\n      <td>3</td>\n      <td>1</td>\n      <td>2</td>\n      <td>0.077747</td>\n      <td>4.954311e-01</td>\n      <td>0.079783</td>\n      <td>0.514393</td>\n      <td>0.033057</td>\n      <td>0.109375</td>\n      <td>0.236909</td>\n      <td>0.312564</td>\n      <td>0.999951</td>\n    </tr>\n    <tr>\n      <th>...</th>\n      <td>...</td>\n      <td>...</td>\n      <td>...</td>\n      <td>...</td>\n      <td>...</td>\n      <td>...</td>\n      <td>...</td>\n      <td>...</td>\n      <td>...</td>\n      <td>...</td>\n      <td>...</td>\n      <td>...</td>\n      <td>...</td>\n      <td>...</td>\n      <td>...</td>\n      <td>...</td>\n      <td>...</td>\n      <td>...</td>\n      <td>...</td>\n      <td>...</td>\n    </tr>\n    <tr>\n      <th>10115</th>\n      <td>0.545455</td>\n      <td>1</td>\n      <td>2</td>\n      <td>4.0</td>\n      <td>1.0</td>\n      <td>50.000000</td>\n      <td>1</td>\n      <td>0.627907</td>\n      <td>3</td>\n      <td>2</td>\n      <td>3</td>\n      <td>0.077536</td>\n      <td>7.353993e-01</td>\n      <td>0.062076</td>\n      <td>0.262804</td>\n      <td>0.855934</td>\n      <td>0.835938</td>\n      <td>0.239989</td>\n      <td>0.464323</td>\n      <td>0.999821</td>\n    </tr>\n    <tr>\n      <th>10116</th>\n      <td>0.340909</td>\n      <td>1</td>\n      <td>2</td>\n      <td>4.0</td>\n      <td>3.0</td>\n      <td>50.000000</td>\n      <td>1</td>\n      <td>0.279070</td>\n      <td>4</td>\n      <td>2</td>\n      <td>3</td>\n      <td>0.085819</td>\n      <td>8.684942e-01</td>\n      <td>0.060308</td>\n      <td>0.300561</td>\n      <td>0.472062</td>\n      <td>0.460938</td>\n      <td>0.191263</td>\n      <td>0.513569</td>\n      <td>0.004312</td>\n    </tr>\n    <tr>\n      <th>10117</th>\n      <td>0.409091</td>\n      <td>0</td>\n      <td>1</td>\n      <td>2.0</td>\n      <td>2.0</td>\n      <td>26.666667</td>\n      <td>1</td>\n      <td>0.534884</td>\n      <td>5</td>\n      <td>3</td>\n      <td>4</td>\n      <td>0.120042</td>\n      <td>3.972984e-10</td>\n      <td>0.156466</td>\n      <td>0.306169</td>\n      <td>0.559394</td>\n      <td>0.390625</td>\n      <td>0.229068</td>\n      <td>0.000001</td>\n      <td>0.001700</td>\n    </tr>\n    <tr>\n      <th>10118</th>\n      <td>0.090909</td>\n      <td>1</td>\n      <td>2</td>\n      <td>4.0</td>\n      <td>2.0</td>\n      <td>50.000000</td>\n      <td>1</td>\n      <td>0.534884</td>\n      <td>4</td>\n      <td>3</td>\n      <td>3</td>\n      <td>0.116172</td>\n      <td>3.972984e-10</td>\n      <td>0.152756</td>\n      <td>0.200000</td>\n      <td>0.450958</td>\n      <td>0.406250</td>\n      <td>0.202185</td>\n      <td>0.000001</td>\n      <td>0.002876</td>\n    </tr>\n    <tr>\n      <th>10119</th>\n      <td>0.386364</td>\n      <td>0</td>\n      <td>2</td>\n      <td>4.0</td>\n      <td>2.0</td>\n      <td>26.666667</td>\n      <td>3</td>\n      <td>0.279070</td>\n      <td>6</td>\n      <td>2</td>\n      <td>4</td>\n      <td>0.270566</td>\n      <td>7.791021e-01</td>\n      <td>0.243929</td>\n      <td>0.262804</td>\n      <td>0.559565</td>\n      <td>0.398438</td>\n      <td>0.181742</td>\n      <td>0.189951</td>\n      <td>0.002959</td>\n    </tr>\n  </tbody>\n</table>\n<p>10120 rows × 20 columns</p>\n</div>"
     },
     "execution_count": 24,
     "metadata": {},
     "output_type": "execute_result"
    }
   ],
   "source": [],
   "metadata": {
    "collapsed": false,
    "pycharm": {
     "name": "#%%\n"
    }
   }
  },
  {
   "cell_type": "markdown",
   "source": [
    "# decide what kind of model is suitable for your task\n",
    "(supervised / unsupervised learning, classification / regression)\n",
    "i chose supervised ml because we can organize train/test sets, with given dataset\n",
    "but also we can try unsupervised ml and compare the results"
   ],
   "metadata": {
    "collapsed": false,
    "pycharm": {
     "name": "#%% md\n"
    }
   }
  },
  {
   "cell_type": "markdown",
   "source": [
    "# decide how to split data into train/test sets"
   ],
   "metadata": {
    "collapsed": false,
    "pycharm": {
     "name": "#%% md\n"
    }
   }
  },
  {
   "cell_type": "code",
   "execution_count": 118,
   "outputs": [
    {
     "name": "stdout",
     "output_type": "stream",
     "text": [
      "shapes: \n",
      "x_train: (2530, 19), \n",
      "x_test: (7590, 19), \n",
      "y_train: (2530,), \n",
      "y_test: (7590,)\n",
      "test_size_i: 0.6\n",
      "test_size_i: 0.61\n",
      "test_size_i: 0.62\n",
      "test_size_i: 0.63\n",
      "test_size_i: 0.64\n",
      "test_size_i: 0.65\n",
      "test_size_i: 0.66\n",
      "test_size_i: 0.67\n",
      "test_size_i: 0.68\n",
      "test_size_i: 0.69\n",
      "test_size_i: 0.7\n",
      "test_size_i: 0.71\n",
      "test_size_i: 0.72\n",
      "test_size_i: 0.73\n",
      "test_size_i: 0.74\n",
      "test_size_i: 0.75\n",
      "test_size_i: 0.76\n",
      "test_size_i: 0.77\n",
      "test_size_i: 0.78\n",
      "test_size_i: 0.79\n",
      "test_size_i: 0.8\n",
      "test_size_i: 0.81\n",
      "test_size_i: 0.82\n",
      "test_size_i: 0.83\n",
      "test_size_i: 0.84\n",
      "test_size_i: 0.85\n",
      "test_size_i: 0.86\n",
      "test_size_i: 0.87\n",
      "test_size_i: 0.88\n",
      "test_size_i: 0.89\n",
      "test_size_i: 0.9\n",
      "test_size_i: 0.6\n",
      "test_size_i: 0.61\n",
      "test_size_i: 0.62\n",
      "test_size_i: 0.63\n",
      "test_size_i: 0.64\n",
      "test_size_i: 0.65\n",
      "test_size_i: 0.66\n",
      "test_size_i: 0.67\n",
      "test_size_i: 0.68\n",
      "test_size_i: 0.69\n",
      "test_size_i: 0.7\n",
      "test_size_i: 0.71\n",
      "test_size_i: 0.72\n",
      "test_size_i: 0.73\n",
      "test_size_i: 0.74\n",
      "test_size_i: 0.75\n",
      "test_size_i: 0.76\n",
      "test_size_i: 0.77\n",
      "test_size_i: 0.78\n",
      "test_size_i: 0.79\n",
      "test_size_i: 0.8\n",
      "test_size_i: 0.81\n",
      "test_size_i: 0.82\n",
      "test_size_i: 0.83\n",
      "test_size_i: 0.84\n",
      "test_size_i: 0.85\n",
      "test_size_i: 0.86\n",
      "test_size_i: 0.87\n",
      "test_size_i: 0.88\n",
      "test_size_i: 0.89\n",
      "test_size_i: 0.9\n",
      "test_size_i: 0.6\n",
      "test_size_i: 0.61\n",
      "test_size_i: 0.62\n",
      "test_size_i: 0.63\n",
      "test_size_i: 0.64\n",
      "test_size_i: 0.65\n",
      "test_size_i: 0.66\n",
      "test_size_i: 0.67\n",
      "test_size_i: 0.68\n",
      "test_size_i: 0.69\n",
      "test_size_i: 0.7\n",
      "test_size_i: 0.71\n",
      "test_size_i: 0.72\n",
      "test_size_i: 0.73\n",
      "test_size_i: 0.74\n",
      "test_size_i: 0.75\n",
      "test_size_i: 0.76\n",
      "test_size_i: 0.77\n",
      "test_size_i: 0.78\n",
      "test_size_i: 0.79\n",
      "test_size_i: 0.8\n",
      "test_size_i: 0.81\n",
      "test_size_i: 0.82\n",
      "test_size_i: 0.83\n",
      "test_size_i: 0.84\n",
      "test_size_i: 0.85\n",
      "test_size_i: 0.86\n",
      "test_size_i: 0.87\n",
      "test_size_i: 0.88\n",
      "test_size_i: 0.89\n",
      "test_size_i: 0.9\n",
      "test_size_i: 0.6\n",
      "test_size_i: 0.61\n",
      "test_size_i: 0.62\n",
      "test_size_i: 0.63\n",
      "test_size_i: 0.64\n",
      "test_size_i: 0.65\n",
      "test_size_i: 0.66\n",
      "test_size_i: 0.67\n",
      "test_size_i: 0.68\n",
      "test_size_i: 0.69\n",
      "test_size_i: 0.7\n",
      "test_size_i: 0.71\n",
      "test_size_i: 0.72\n",
      "test_size_i: 0.73\n",
      "test_size_i: 0.74\n",
      "test_size_i: 0.75\n",
      "test_size_i: 0.76\n",
      "test_size_i: 0.77\n",
      "test_size_i: 0.78\n",
      "test_size_i: 0.79\n",
      "test_size_i: 0.8\n",
      "test_size_i: 0.81\n",
      "test_size_i: 0.82\n",
      "test_size_i: 0.83\n",
      "test_size_i: 0.84\n",
      "test_size_i: 0.85\n",
      "test_size_i: 0.86\n",
      "test_size_i: 0.87\n",
      "test_size_i: 0.88\n",
      "test_size_i: 0.89\n",
      "test_size_i: 0.9\n",
      "test_size_i: 0.6\n",
      "test_size_i: 0.61\n",
      "test_size_i: 0.62\n",
      "test_size_i: 0.63\n",
      "test_size_i: 0.64\n",
      "test_size_i: 0.65\n",
      "test_size_i: 0.66\n",
      "test_size_i: 0.67\n",
      "test_size_i: 0.68\n",
      "test_size_i: 0.69\n",
      "test_size_i: 0.7\n",
      "test_size_i: 0.71\n",
      "test_size_i: 0.72\n",
      "test_size_i: 0.73\n",
      "test_size_i: 0.74\n",
      "test_size_i: 0.75\n",
      "test_size_i: 0.76\n",
      "test_size_i: 0.77\n",
      "test_size_i: 0.78\n",
      "test_size_i: 0.79\n",
      "test_size_i: 0.8\n",
      "test_size_i: 0.81\n",
      "test_size_i: 0.82\n",
      "test_size_i: 0.83\n",
      "test_size_i: 0.84\n",
      "test_size_i: 0.85\n",
      "test_size_i: 0.86\n",
      "test_size_i: 0.87\n",
      "test_size_i: 0.88\n",
      "test_size_i: 0.89\n",
      "test_size_i: 0.9\n"
     ]
    }
   ],
   "source": [
    "from sklearn.ensemble import RandomForestClassifier\n",
    "\n",
    "x_train, x_test, y_train, y_test = train_test_split(x, y, test_size=0.75)\n",
    "print(f\"shapes: \\nx_train: {x_train.shape}, \\nx_test: {x_test.shape}, \\n\"\n",
    "      f\"y_train: {y_train.shape}, \\ny_test: {y_test.shape}\")\n",
    "\n",
    "max_test_size = 0.9\n",
    "start_test_size = 0.6\n",
    "test_size_step = 0.01\n",
    "test_sizes = [round(start_test_size + i * test_size_step, 2)\n",
    "              for i in list(range(int((max_test_size - start_test_size) / test_size_step) + 1))]\n",
    "best_test_sizes = []\n",
    "scores_dict = dict()\n",
    "for rand_state_i in range(1, 5 + 1):\n",
    "    for test_size_i in test_sizes:\n",
    "        # print(f\"test_size_i: {test_size_i}\")\n",
    "        x_train, x_test, y_train, y_test = train_test_split(x, y, test_size=test_size_i,\n",
    "                                                            random_state=rand_state_i)\n",
    "        clf_model = RandomForestClassifier(n_estimators=100)\n",
    "        clf_model.fit(X=x_train, y=y_train)\n",
    "        y_predict = clf_model.predict(x_test)\n",
    "        y_pos_idx_array = [idx for idx, val in enumerate(y_test) if val == 1]\n",
    "        y_neg_idx_array = [idx for idx, val in enumerate(y_test) if val == 0]\n",
    "\n",
    "        metrics = get_metrics(targets=y_test[y_pos_idx_array], predicted_targets=y_predict[y_pos_idx_array], mode=\"return_metrics\")\n",
    "        pos_target_accuracy = metrics[\"accuracy\"]\n",
    "\n",
    "        metrics = get_metrics(targets=y_test[y_neg_idx_array], predicted_targets=y_predict[y_neg_idx_array], mode=\"return_metrics\")\n",
    "        neg_target_accuracy = metrics[\"accuracy\"]\n",
    "\n",
    "        scores_dict[test_size_i] = (pos_target_accuracy + neg_target_accuracy) / 2\n",
    "        # print((pos_target_accuracy + neg_target_accuracy) / 2)\n",
    "        best_test_size = max(scores_dict.items(), key=lambda x: x[1])[0]\n",
    "        best_test_sizes.append(best_test_size)\n",
    "\n",
    "best_test_size = sum(best_test_sizes) / len(best_test_sizes)\n",
    "# best_test_size = max(scores_dict.items(), key=lambda x: x[1])[0]\n"
   ],
   "metadata": {
    "collapsed": false,
    "pycharm": {
     "name": "#%%\n"
    }
   }
  },
  {
   "cell_type": "code",
   "execution_count": 119,
   "outputs": [
    {
     "data": {
      "text/plain": "0.6442580645161279"
     },
     "execution_count": 119,
     "metadata": {},
     "output_type": "execute_result"
    }
   ],
   "source": [
    "best_test_size"
   ],
   "metadata": {
    "collapsed": false,
    "pycharm": {
     "name": "#%%\n"
    }
   }
  },
  {
   "cell_type": "markdown",
   "source": [
    "# choose the metrics to apply\n",
    "accuracy, precision, recall, f1_score, confusion_matrix\n",
    "according to our task we can understand that our goal is in success prediction of positive class of target feature as well as negative one,\n",
    "so we have to test our model on sets with positive target feature and negative separately and the accuracy wil be the best choice for us\n",
    "metrics to apply: accuracy"
   ],
   "metadata": {
    "collapsed": false,
    "pycharm": {
     "name": "#%% md\n"
    }
   }
  },
  {
   "cell_type": "code",
   "execution_count": null,
   "outputs": [],
   "source": [
    "y_pos_idx_array = [idx for idx, val in enumerate(y_test) if val == 1]\n",
    "y_neg_idx_array = [idx for idx, val in enumerate(y_test) if val == 0]"
   ],
   "metadata": {
    "collapsed": false,
    "pycharm": {
     "name": "#%%\n"
    }
   }
  },
  {
   "cell_type": "markdown",
   "source": [
    "# Naive Bayes model"
   ],
   "metadata": {
    "collapsed": false,
    "pycharm": {
     "name": "#%% md\n"
    }
   }
  },
  {
   "cell_type": "code",
   "execution_count": 52,
   "outputs": [
    {
     "name": "stdout",
     "output_type": "stream",
     "text": [
      "positive target prediction metrics\n",
      "accuracy = 0.9324260910370717\n",
      "confusion_matrix = \n",
      "[[1987  144]\n",
      " [   0    0]]\n",
      "negative target prediction metrics\n",
      "accuracy = 0.6265664160401002\n",
      "confusion_matrix = \n",
      "[[  0   0]\n",
      " [149 250]]\n"
     ]
    },
    {
     "data": {
      "text/plain": "0.8281620553359685"
     },
     "execution_count": 52,
     "metadata": {},
     "output_type": "execute_result"
    }
   ],
   "source": [
    "gnb_model = GaussianNB()\n",
    "gnb_model.fit(X=x_train, y=y_train)\n",
    "y_predict = gnb_model.predict(X=x_test)\n",
    "\n",
    "print(\"positive target prediction metrics\")\n",
    "get_metrics(y_test[y_pos_idx_array], y_predict[y_pos_idx_array], mode=\"show_metrics\")\n",
    "print(\"negative target prediction metrics\")\n",
    "get_metrics(y_test[y_neg_idx_array], y_predict[y_neg_idx_array], mode=\"show_metrics\")\n",
    "cross_val_score(gnb_model, x, y, cv=5, scoring=\"accuracy\").mean()"
   ],
   "metadata": {
    "collapsed": false,
    "pycharm": {
     "name": "#%%\n"
    }
   }
  },
  {
   "cell_type": "markdown",
   "source": [
    "# Random Forest"
   ],
   "metadata": {
    "collapsed": false,
    "pycharm": {
     "name": "#%% md\n"
    }
   }
  },
  {
   "cell_type": "code",
   "execution_count": 100,
   "outputs": [
    {
     "name": "stdout",
     "output_type": "stream",
     "text": [
      "positive target prediction metrics\n",
      "accuracy = 0.9568277803847959\n",
      "confusion_matrix = \n",
      "[[1786   23]\n",
      " [  69  253]]\n",
      "negative target prediction metrics\n",
      "accuracy = 0.9523809523809523\n",
      "confusion_matrix = \n",
      "[[317   2]\n",
      " [ 17  63]]\n"
     ]
    },
    {
     "data": {
      "text/plain": "0.9263833992094863"
     },
     "execution_count": 100,
     "metadata": {},
     "output_type": "execute_result"
    }
   ],
   "source": [
    "from sklearn.ensemble import RandomForestClassifier\n",
    "\n",
    "clf_model = RandomForestClassifier(n_estimators=100)\n",
    "clf_model.fit(X=x_train, y=y_train)\n",
    "y_predict = clf_model.predict(x_test)\n",
    "print(\"positive target prediction metrics\")\n",
    "get_metrics(y_test[y_pos_idx_array], y_predict[y_pos_idx_array], mode=\"show_metrics\")\n",
    "print(\"negative target prediction metrics\")\n",
    "get_metrics(y_test[y_neg_idx_array], y_predict[y_neg_idx_array], mode=\"show_metrics\")\n",
    "cross_val_score(clf_model, x, y, cv=5, scoring=\"accuracy\").mean()"
   ],
   "metadata": {
    "collapsed": false,
    "pycharm": {
     "name": "#%%\n"
    }
   }
  },
  {
   "cell_type": "markdown",
   "source": [
    "# tune Random Forest algorithm parameters"
   ],
   "metadata": {
    "collapsed": false,
    "pycharm": {
     "name": "#%% md\n"
    }
   }
  },
  {
   "cell_type": "code",
   "execution_count": 97,
   "outputs": [],
   "source": [
    "from sklearn.model_selection import GridSearchCV\n",
    "n_estimators = list(range(90, 140 + 10, 10))\n",
    "max_features = [\"auto\", \"sqrt\"]\n",
    "max_depth = [2, 4, 6, 8, 10 , 12]\n",
    "bootstrap = [True, False]\n",
    "param_grid = dict(n_estimators=n_estimators, max_features=max_features,\n",
    "                  max_depth=max_depth, bootstrap=bootstrap)\n",
    "grid_search = GridSearchCV(clf_model, param_grid=param_grid,\n",
    "                           scoring=\"accuracy\", cv=10)\n",
    "grid_search.fit(X=x, y=y)\n",
    "clf_model_best_params = grid_search.best_params_"
   ],
   "metadata": {
    "collapsed": false,
    "pycharm": {
     "name": "#%%\n"
    }
   }
  },
  {
   "cell_type": "code",
   "execution_count": 98,
   "outputs": [
    {
     "data": {
      "text/plain": "{'bootstrap': False,\n 'max_depth': 8,\n 'max_features': 'sqrt',\n 'n_estimators': 80}"
     },
     "execution_count": 98,
     "metadata": {},
     "output_type": "execute_result"
    }
   ],
   "source": [
    "clf_model_best_params"
   ],
   "metadata": {
    "collapsed": false,
    "pycharm": {
     "name": "#%%\n"
    }
   }
  },
  {
   "cell_type": "code",
   "execution_count": 99,
   "outputs": [
    {
     "data": {
      "text/plain": "0.9152173913043476"
     },
     "execution_count": 99,
     "metadata": {},
     "output_type": "execute_result"
    }
   ],
   "source": [
    "clf_model = RandomForestClassifier(**clf_model_best_params)\n",
    "cross_val_score(clf_model, x, y, cv=5, scoring=\"accuracy\").mean()"
   ],
   "metadata": {
    "collapsed": false,
    "pycharm": {
     "name": "#%%\n"
    }
   }
  },
  {
   "cell_type": "markdown",
   "source": [
    "# K-nearest neighbor algorithm"
   ],
   "metadata": {
    "collapsed": false,
    "pycharm": {
     "name": "#%% md\n"
    }
   }
  },
  {
   "cell_type": "code",
   "execution_count": 50,
   "outputs": [
    {
     "name": "stdout",
     "output_type": "stream",
     "text": [
      "positive target prediction metrics\n",
      "accuracy = 0.9751290473955889\n",
      "confusion_matrix = \n",
      "[[2078   53]\n",
      " [   0    0]]\n",
      "negative target prediction metrics\n",
      "accuracy = 0.22556390977443608\n",
      "confusion_matrix = \n",
      "[[  0   0]\n",
      " [309  90]]\n"
     ]
    },
    {
     "data": {
      "text/plain": "0.8203557312252965"
     },
     "execution_count": 50,
     "metadata": {},
     "output_type": "execute_result"
    }
   ],
   "source": [
    "from sklearn.neighbors import KNeighborsClassifier\n",
    "\n",
    "neigh_model = KNeighborsClassifier()\n",
    "neigh_model.fit(X=x_train, y=y_train)\n",
    "y_predict = neigh_model.predict(X=x_test)\n",
    "print(\"positive target prediction metrics\")\n",
    "get_metrics(y_test[y_pos_idx_array], y_predict[y_pos_idx_array], mode=\"show_metrics\")\n",
    "print(\"negative target prediction metrics\")\n",
    "get_metrics(y_test[y_neg_idx_array], y_predict[y_neg_idx_array], mode=\"show_metrics\")\n",
    "cross_val_score(neigh_model, x, y, cv=5, scoring=\"accuracy\").mean()"
   ],
   "metadata": {
    "collapsed": false,
    "pycharm": {
     "name": "#%%\n"
    }
   }
  },
  {
   "cell_type": "markdown",
   "source": [
    "# tune K-nearest neighbor algorithm parameters"
   ],
   "metadata": {
    "collapsed": false,
    "pycharm": {
     "name": "#%% md\n"
    }
   }
  },
  {
   "cell_type": "code",
   "execution_count": 59,
   "outputs": [
    {
     "name": "stdout",
     "output_type": "stream",
     "text": [
      "{1: 0.7935770750988143, 2: 0.7312252964426877, 3: 0.8303359683794467, 4: 0.8113636363636365, 5: 0.8419960474308301, 6: 0.8328063241106719, 7: 0.8464426877470356, 8: 0.8424901185770752, 9: 0.8477272727272727, 10: 0.8460474308300394, 11: 0.8484189723320158, 12: 0.8464426877470356, 13: 0.8484189723320158, 14: 0.8471343873517787, 15: 0.8480237154150198, 16: 0.8461462450592885, 17: 0.8467391304347827, 18: 0.8463438735177865, 19: 0.8457509881422924, 20: 0.8464426877470356, 21: 0.8466403162055336, 22: 0.8465415019762844, 23: 0.8443675889328063, 24: 0.8452569169960474, 25: 0.8446640316205534, 26: 0.8457509881422924, 27: 0.8441699604743084, 28: 0.8441699604743083, 29: 0.8434782608695652, 30: 0.842885375494071}\n"
     ]
    }
   ],
   "source": [
    "max_k = 30\n",
    "knn_scores = []\n",
    "for k in range(1, max_k + 1):\n",
    "    neigh_model = KNeighborsClassifier(n_neighbors=k)\n",
    "    knn_scores.append(cross_val_score(neigh_model, X=x, y=y, cv=10, scoring=\"accuracy\").mean())\n",
    "\n",
    "print(dict(zip(range(1, max_k + 1), knn_scores)))\n"
   ],
   "metadata": {
    "collapsed": false,
    "pycharm": {
     "name": "#%%\n"
    }
   }
  },
  {
   "cell_type": "code",
   "execution_count": 60,
   "outputs": [
    {
     "data": {
      "text/plain": "11"
     },
     "execution_count": 60,
     "metadata": {},
     "output_type": "execute_result"
    }
   ],
   "source": [
    "best_k = max(zip(range(1, max_k + 1), knn_scores), key=lambda x: x[1])[0]\n",
    "best_k"
   ],
   "metadata": {
    "collapsed": false,
    "pycharm": {
     "name": "#%%\n"
    }
   }
  },
  {
   "cell_type": "code",
   "execution_count": null,
   "outputs": [],
   "source": [],
   "metadata": {
    "collapsed": false,
    "pycharm": {
     "name": "#%%\n"
    }
   }
  },
  {
   "cell_type": "markdown",
   "source": [
    "GridSearchCV"
   ],
   "metadata": {
    "collapsed": false,
    "pycharm": {
     "name": "#%% md\n"
    }
   }
  },
  {
   "cell_type": "code",
   "execution_count": 79,
   "outputs": [],
   "source": [
    "from sklearn.model_selection import GridSearchCV\n",
    "k_range = range(1, max_k + 1)\n",
    "weight_options = [\"uniform\", \"distance\"]\n",
    "param_grid = dict(n_neighbors=k_range, weights=weight_options)\n",
    "grid_search = GridSearchCV(estimator=neigh_model, param_grid=param_grid,\n",
    "                    cv=10, scoring=\"accuracy\")\n",
    "grid_search.fit(X=x, y=y)\n",
    "best_params = grid_search.best_params_\n"
   ],
   "metadata": {
    "collapsed": false,
    "pycharm": {
     "name": "#%%\n"
    }
   }
  },
  {
   "cell_type": "code",
   "execution_count": 92,
   "outputs": [
    {
     "data": {
      "text/plain": "{'n_neighbors': 13, 'weights': 'distance'}"
     },
     "execution_count": 92,
     "metadata": {},
     "output_type": "execute_result"
    }
   ],
   "source": [
    "# neigh_model = KNeighborsClassifier(**best_params)\n",
    "# cross_val_score(neigh_model, x, y, cv=10, scoring=\"accuracy\").mean()\n",
    "best_params"
   ],
   "metadata": {
    "collapsed": false,
    "pycharm": {
     "name": "#%%\n"
    }
   }
  },
  {
   "cell_type": "markdown",
   "source": [
    "RandomizedSearchCV"
   ],
   "metadata": {
    "collapsed": false,
    "pycharm": {
     "name": "#%% md\n"
    }
   }
  },
  {
   "cell_type": "code",
   "execution_count": 94,
   "outputs": [
    {
     "data": {
      "text/plain": "[(0.8487154150197629, {'weights': 'distance', 'n_neighbors': 17}),\n (0.849802371541502, {'weights': 'distance', 'n_neighbors': 13}),\n (0.849802371541502, {'weights': 'distance', 'n_neighbors': 13}),\n (0.8467391304347827, {'weights': 'uniform', 'n_neighbors': 17}),\n (0.849802371541502, {'weights': 'distance', 'n_neighbors': 13}),\n (0.8484189723320158, {'weights': 'distance', 'n_neighbors': 18}),\n (0.8463438735177865, {'weights': 'uniform', 'n_neighbors': 18}),\n (0.8485177865612649, {'weights': 'distance', 'n_neighbors': 21}),\n (0.8485177865612649, {'weights': 'distance', 'n_neighbors': 21}),\n (0.8457509881422924, {'weights': 'uniform', 'n_neighbors': 26})]"
     },
     "execution_count": 94,
     "metadata": {},
     "output_type": "execute_result"
    }
   ],
   "source": [
    "from sklearn.model_selection import RandomizedSearchCV\n",
    "\n",
    "rand_search = RandomizedSearchCV(estimator=neigh_model, param_distributions=param_grid,\n",
    "                          n_iter=5, scoring=\"accuracy\", cv=10)\n",
    "\n",
    "rand_best_params_list = []\n",
    "for i in range(10):\n",
    "    rand_search.fit(X=x, y=y)\n",
    "    rand_best_params_list.append((rand_search.best_score_, rand_search.best_params_))\n",
    "\n",
    "best_params = max(rand_best_params_list, key=lambda x: x[0])[1][\"n_neighbors\"]"
   ],
   "metadata": {
    "collapsed": false,
    "pycharm": {
     "name": "#%%\n"
    }
   }
  },
  {
   "cell_type": "code",
   "execution_count": null,
   "outputs": [],
   "source": [],
   "metadata": {
    "collapsed": false,
    "pycharm": {
     "name": "#%%\n"
    }
   }
  }
 ],
 "metadata": {
  "kernelspec": {
   "display_name": "Python 3",
   "language": "python",
   "name": "python3"
  },
  "language_info": {
   "codemirror_mode": {
    "name": "ipython",
    "version": 2
   },
   "file_extension": ".py",
   "mimetype": "text/x-python",
   "name": "python",
   "nbconvert_exporter": "python",
   "pygments_lexer": "ipython2",
   "version": "2.7.6"
  }
 },
 "nbformat": 4,
 "nbformat_minor": 0
}