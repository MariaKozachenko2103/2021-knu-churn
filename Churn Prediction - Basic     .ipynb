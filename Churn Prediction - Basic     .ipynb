{
 "cells": [
  {
   "cell_type": "code",
   "execution_count": 1,
   "id": "regular-indian",
   "metadata": {},
   "outputs": [],
   "source": [
    "from pandas import read_csv\n",
    "import numpy as np\n",
    "import warnings\n",
    "from sklearn.model_selection import train_test_split,KFold\n",
    "from sklearn.metrics import accuracy_score,confusion_matrix,classification_report\n",
    "from sklearn.linear_model import LogisticRegression\n",
    "from sklearn.neighbors import KNeighborsClassifier\n",
    "from sklearn.naive_bayes import GaussianNB\n",
    "from sklearn.svm import LinearSVC\n",
    "from sklearn.svm import SVC\n",
    "from sklearn.tree import DecisionTreeClassifier\n",
    "from sklearn.ensemble import RandomForestClassifier\n",
    "from sklearn.model_selection import RandomizedSearchCV\n",
    "from sklearn import datasets\n",
    "from scipy.stats import uniform, truncnorm, randint\n",
    "df = read_csv('BankChurners_2.csv')\n",
    "\n"
   ]
  },
  {
   "cell_type": "code",
   "execution_count": 2,
   "id": "complicated-filename",
   "metadata": {},
   "outputs": [],
   "source": [
    "X = df.iloc[:, 1:19].values \n",
    "Y = df.iloc[:, 0].values \n",
    "X_train, X_test, Y_train, Y_test = train_test_split( X , Y, test_size = 0.3)"
   ]
  },
  {
   "cell_type": "code",
   "execution_count": 3,
   "id": "secret-banner",
   "metadata": {},
   "outputs": [
    {
     "name": "stdout",
     "output_type": "stream",
     "text": [
      "K-Nearest Neighbor\n",
      "Percent accurate - 83.94237526352775\n",
      "Confusion Matrix  \n",
      " [[ 105   51]\n",
      " [ 406 2284]]\n",
      "Report \n",
      "              precision    recall  f1-score   support\n",
      "\n",
      "           0       0.21      0.67      0.31       156\n",
      "           1       0.98      0.85      0.91      2690\n",
      "\n",
      "    accuracy                           0.84      2846\n",
      "   macro avg       0.59      0.76      0.61      2846\n",
      "weighted avg       0.94      0.84      0.88      2846\n",
      "\n"
     ]
    }
   ],
   "source": [
    "#knn\n",
    "fit_knn = KNeighborsClassifier().fit(X_train, Y_train)\n",
    "pred_knn = fit_knn.predict(X_test)\n",
    "print(\"K-Nearest Neighbor\")\n",
    "print(\"Percent accurate - {0}\".format(accuracy_score(pred_knn, Y_test)*100))\n",
    "print('Confusion Matrix  \\n {0}'.format(confusion_matrix(pred_knn, Y_test)))\n",
    "print('Report \\n{0}'.format(classification_report(pred_knn, Y_test)))"
   ]
  },
  {
   "cell_type": "code",
   "execution_count": 4,
   "id": "fancy-gardening",
   "metadata": {},
   "outputs": [
    {
     "name": "stdout",
     "output_type": "stream",
     "text": [
      "Naive Bayes\n",
      "Percent accurate - 88.79128601546029\n",
      "Confusion Matrix \n",
      " [[ 338  146]\n",
      " [ 173 2189]]\n",
      "Report\n",
      "              precision    recall  f1-score   support\n",
      "\n",
      "           0       0.66      0.70      0.68       484\n",
      "           1       0.94      0.93      0.93      2362\n",
      "\n",
      "    accuracy                           0.89      2846\n",
      "   macro avg       0.80      0.81      0.81      2846\n",
      "weighted avg       0.89      0.89      0.89      2846\n",
      "\n"
     ]
    }
   ],
   "source": [
    "print(\"Naive Bayes\")\n",
    "fit_ = GaussianNB().fit(X_train, Y_train)\n",
    "pred_ = fit_.predict(X_test)\n",
    "print(\"Percent accurate - {0}\".format(accuracy_score(pred_, Y_test)*100))\n",
    "print('Confusion Matrix \\n {0}'.format(confusion_matrix(pred_, Y_test)))\n",
    "print('Report\\n{0}'.format(classification_report(pred_, Y_test)))"
   ]
  },
  {
   "cell_type": "code",
   "execution_count": 5,
   "id": "radical-alliance",
   "metadata": {},
   "outputs": [
    {
     "name": "stdout",
     "output_type": "stream",
     "text": [
      "Decision Trees\n",
      "Percent accurate - 94.30780042164442\n",
      "Confusion Matrix : \n",
      " [[ 423   74]\n",
      " [  88 2261]]\n",
      "Report :\n",
      "              precision    recall  f1-score   support\n",
      "\n",
      "           0       0.83      0.85      0.84       497\n",
      "           1       0.97      0.96      0.97      2349\n",
      "\n",
      "    accuracy                           0.94      2846\n",
      "   macro avg       0.90      0.91      0.90      2846\n",
      "weighted avg       0.94      0.94      0.94      2846\n",
      "\n"
     ]
    }
   ],
   "source": [
    "\n",
    "\n",
    "print(\"Decision Trees\")\n",
    "fit_ = DecisionTreeClassifier().fit(X_train, Y_train)\n",
    "pred = fit_.predict(X_test)\n",
    "print(\"Percent accurate - {0}\".format(accuracy_score(pred, Y_test)*100))\n",
    "print('Confusion Matrix : \\n {0}'.format(confusion_matrix(pred, Y_test)))\n",
    "print('Report :\\n{0}'.format(classification_report(pred, Y_test)))"
   ]
  },
  {
   "cell_type": "code",
   "execution_count": 7,
   "id": "foreign-berlin",
   "metadata": {},
   "outputs": [
    {
     "name": "stdout",
     "output_type": "stream",
     "text": [
      "Linear SVMs\n",
      "Percent accurate - 90.30217849613493\n",
      "Confusion Matrix : \n",
      " [[ 307   72]\n",
      " [ 204 2263]]\n",
      "Report :\n",
      "              precision    recall  f1-score   support\n",
      "\n",
      "           0       0.60      0.81      0.69       379\n",
      "           1       0.97      0.92      0.94      2467\n",
      "\n",
      "    accuracy                           0.90      2846\n",
      "   macro avg       0.78      0.86      0.82      2846\n",
      "weighted avg       0.92      0.90      0.91      2846\n",
      "\n"
     ]
    },
    {
     "name": "stderr",
     "output_type": "stream",
     "text": [
      "c:\\users\\liubomyr\\appdata\\local\\programs\\python\\python38-32\\lib\\site-packages\\sklearn\\svm\\_base.py:985: ConvergenceWarning: Liblinear failed to converge, increase the number of iterations.\n",
      "  warnings.warn(\"Liblinear failed to converge, increase \"\n"
     ]
    }
   ],
   "source": [
    "print(\"Linear SVMs\")\n",
    "fit_ = LinearSVC().fit(X_train, Y_train)\n",
    "pred = fit_.predict(X_test)\n",
    "print(\"Percent accurate - {0}\".format(accuracy_score(pred, Y_test)*100))\n",
    "print('Confusion Matrix : \\n {0}'.format(confusion_matrix(pred, Y_test)))\n",
    "print('Report :\\n{0}'.format(classification_report(pred, Y_test)))"
   ]
  },
  {
   "cell_type": "code",
   "execution_count": 10,
   "id": "permanent-comfort",
   "metadata": {},
   "outputs": [
    {
     "name": "stdout",
     "output_type": "stream",
     "text": [
      "Random Forest\n",
      "Percent accurate - 96.83766690091356\n",
      "Confusion Matrix : \n",
      " [[ 441   20]\n",
      " [  70 2315]]\n",
      "Report :\n",
      "              precision    recall  f1-score   support\n",
      "\n",
      "           0       0.86      0.96      0.91       461\n",
      "           1       0.99      0.97      0.98      2385\n",
      "\n",
      "    accuracy                           0.97      2846\n",
      "   macro avg       0.93      0.96      0.94      2846\n",
      "weighted avg       0.97      0.97      0.97      2846\n",
      "\n"
     ]
    }
   ],
   "source": [
    "\n",
    "\n",
    "\n",
    "print(\"Random Forest\")\n",
    "fit_ = RandomForestClassifier().fit(X_train, Y_train)\n",
    "pred = fit_.predict(X_test)\n",
    "print(\"Percent accurate - {0}\".format(accuracy_score(pred, Y_test)*100))\n",
    "print('Confusion Matrix : \\n {0}'.format(confusion_matrix(pred, Y_test)))\n",
    "print('Report :\\n{0}'.format(classification_report(pred, Y_test)))"
   ]
  },
  {
   "cell_type": "code",
   "execution_count": 11,
   "id": "original-turtle",
   "metadata": {},
   "outputs": [
    {
     "name": "stdout",
     "output_type": "stream",
     "text": [
      "Non Linear SVMs\n",
      "Percent accurate - 88.12368236120871\n",
      "Confusion Matrix : \n",
      " [[ 187   14]\n",
      " [ 324 2321]]\n",
      "Report :\n",
      "              precision    recall  f1-score   support\n",
      "\n",
      "           0       0.37      0.93      0.53       201\n",
      "           1       0.99      0.88      0.93      2645\n",
      "\n",
      "    accuracy                           0.88      2846\n",
      "   macro avg       0.68      0.90      0.73      2846\n",
      "weighted avg       0.95      0.88      0.90      2846\n",
      "\n"
     ]
    }
   ],
   "source": [
    "\n",
    "print(\"Non Linear SVMs\")\n",
    "a = SVC(kernel='rbf')\n",
    "fit_ = a.fit(X_train, Y_train)\n",
    "pred = fit_.predict(X_test)\n",
    "print(\"Percent accurate - {0}\" .format(accuracy_score(pred, Y_test)*100))\n",
    "print('Confusion Matrix : \\n {0}'.format(confusion_matrix(pred, Y_test)))\n",
    "print('Report :\\n{0}'.format(classification_report(pred, Y_test)))"
   ]
  },
  {
   "cell_type": "code",
   "execution_count": null,
   "id": "considered-salmon",
   "metadata": {},
   "outputs": [],
   "source": []
  }
 ],
 "metadata": {
  "kernelspec": {
   "display_name": "Python 3",
   "language": "python",
   "name": "python3"
  },
  "language_info": {
   "codemirror_mode": {
    "name": "ipython",
    "version": 3
   },
   "file_extension": ".py",
   "mimetype": "text/x-python",
   "name": "python",
   "nbconvert_exporter": "python",
   "pygments_lexer": "ipython3",
   "version": "3.8.2"
  }
 },
 "nbformat": 4,
 "nbformat_minor": 5
}
